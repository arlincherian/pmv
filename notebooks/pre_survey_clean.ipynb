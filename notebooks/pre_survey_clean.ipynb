{
 "cells": [
  {
   "cell_type": "code",
   "execution_count": 1,
   "id": "48cc09c8-18de-49af-85ea-562f313ba28b",
   "metadata": {},
   "outputs": [],
   "source": [
    "import pandas as pd\n",
    "import numpy as np\n",
    "import altair as alt"
   ]
  },
  {
   "cell_type": "code",
   "execution_count": 2,
   "id": "0b72bf84-3db6-415c-b758-1754ef6fda96",
   "metadata": {},
   "outputs": [],
   "source": [
    "# load pre survey data for 2021 \n",
    "pre_df = pd.read_csv(\"../data/processed/pre_survey.csv\")"
   ]
  },
  {
   "cell_type": "markdown",
   "id": "6c1611ea-5006-4ae2-b9b1-8148ce7275a4",
   "metadata": {},
   "source": [
    "### Dataset exploration"
   ]
  },
  {
   "cell_type": "code",
   "execution_count": 3,
   "id": "f844b0ad-f23f-476f-81d9-7f485d9aa93c",
   "metadata": {},
   "outputs": [
    {
     "data": {
      "text/html": [
       "<div>\n",
       "<style scoped>\n",
       "    .dataframe tbody tr th:only-of-type {\n",
       "        vertical-align: middle;\n",
       "    }\n",
       "\n",
       "    .dataframe tbody tr th {\n",
       "        vertical-align: top;\n",
       "    }\n",
       "\n",
       "    .dataframe thead th {\n",
       "        text-align: right;\n",
       "    }\n",
       "</style>\n",
       "<table border=\"1\" class=\"dataframe\">\n",
       "  <thead>\n",
       "    <tr style=\"text-align: right;\">\n",
       "      <th></th>\n",
       "      <th>ID</th>\n",
       "      <th>Email</th>\n",
       "      <th>Name</th>\n",
       "      <th>question_1</th>\n",
       "      <th>question_2</th>\n",
       "      <th>question_3</th>\n",
       "      <th>question_4</th>\n",
       "      <th>question_5</th>\n",
       "      <th>question_6</th>\n",
       "      <th>question_7</th>\n",
       "      <th>question_8</th>\n",
       "    </tr>\n",
       "  </thead>\n",
       "  <tbody>\n",
       "    <tr>\n",
       "      <th>0</th>\n",
       "      <td>1</td>\n",
       "      <td>anonymous</td>\n",
       "      <td>NaN</td>\n",
       "      <td>Project Manager;Subject Matter Expert (SME);</td>\n",
       "      <td>Yes I have attended Project Management Trainin...</td>\n",
       "      <td>Multiple Projects</td>\n",
       "      <td>I have been involved in various Projects and I...</td>\n",
       "      <td>Migration of CRM. In this Project, we are tryi...</td>\n",
       "      <td>5</td>\n",
       "      <td>Strategic, Analytical and Collaborative</td>\n",
       "      <td>Maintaining Project on Track with respect to r...</td>\n",
       "    </tr>\n",
       "    <tr>\n",
       "      <th>1</th>\n",
       "      <td>2</td>\n",
       "      <td>anonymous</td>\n",
       "      <td>NaN</td>\n",
       "      <td>Project Manager;</td>\n",
       "      <td>No</td>\n",
       "      <td>Multiple Projects</td>\n",
       "      <td>I manage multiple program schedules and teams,...</td>\n",
       "      <td>Phase 2 Renovations. Our organization is prepa...</td>\n",
       "      <td>45</td>\n",
       "      <td>Commitment to the project and a unified goal, ...</td>\n",
       "      <td>Reduced efficiency and timeline drag due from ...</td>\n",
       "    </tr>\n",
       "    <tr>\n",
       "      <th>2</th>\n",
       "      <td>3</td>\n",
       "      <td>anonymous</td>\n",
       "      <td>NaN</td>\n",
       "      <td>Not sure;non profit doing projects? ;</td>\n",
       "      <td>Nope!</td>\n",
       "      <td>Multiple Projects</td>\n",
       "      <td>Multiple community based projects (event plann...</td>\n",
       "      <td>We are currently doing a community wide \"Needs...</td>\n",
       "      <td>10-May</td>\n",
       "      <td>Not sure if TEAM is an acronym for something h...</td>\n",
       "      <td>- taking the ideas and translating them into t...</td>\n",
       "    </tr>\n",
       "    <tr>\n",
       "      <th>3</th>\n",
       "      <td>4</td>\n",
       "      <td>anonymous</td>\n",
       "      <td>NaN</td>\n",
       "      <td>Project Manager;</td>\n",
       "      <td>I had some training during my master's degree ...</td>\n",
       "      <td>Multiple Projects</td>\n",
       "      <td>Personal &amp; professional</td>\n",
       "      <td>I am looking after Immunization Uptake Project...</td>\n",
       "      <td>3</td>\n",
       "      <td>commitment</td>\n",
       "      <td>Working with multiple stakeholders &amp; communities</td>\n",
       "    </tr>\n",
       "    <tr>\n",
       "      <th>4</th>\n",
       "      <td>5</td>\n",
       "      <td>anonymous</td>\n",
       "      <td>NaN</td>\n",
       "      <td>Project Team Member;</td>\n",
       "      <td>No\\n</td>\n",
       "      <td>Multiple Projects</td>\n",
       "      <td>Funded/fund-raising/awareness events and year ...</td>\n",
       "      <td>Funded/fund-raising/awareness events and year ...</td>\n",
       "      <td>04-Feb</td>\n",
       "      <td>Vision and intend.</td>\n",
       "      <td>Understanding communication styles.</td>\n",
       "    </tr>\n",
       "  </tbody>\n",
       "</table>\n",
       "</div>"
      ],
      "text/plain": [
       "   ID      Email  Name                                    question_1  \\\n",
       "0   1  anonymous   NaN  Project Manager;Subject Matter Expert (SME);   \n",
       "1   2  anonymous   NaN                              Project Manager;   \n",
       "2   3  anonymous   NaN         Not sure;non profit doing projects? ;   \n",
       "3   4  anonymous   NaN                              Project Manager;   \n",
       "4   5  anonymous   NaN                          Project Team Member;   \n",
       "\n",
       "                                          question_2         question_3  \\\n",
       "0  Yes I have attended Project Management Trainin...  Multiple Projects   \n",
       "1                                                 No  Multiple Projects   \n",
       "2                                             Nope!   Multiple Projects   \n",
       "3  I had some training during my master's degree ...  Multiple Projects   \n",
       "4                                               No\\n  Multiple Projects   \n",
       "\n",
       "                                          question_4  \\\n",
       "0  I have been involved in various Projects and I...   \n",
       "1  I manage multiple program schedules and teams,...   \n",
       "2  Multiple community based projects (event plann...   \n",
       "3                           Personal & professional    \n",
       "4  Funded/fund-raising/awareness events and year ...   \n",
       "\n",
       "                                          question_5 question_6  \\\n",
       "0  Migration of CRM. In this Project, we are tryi...          5   \n",
       "1  Phase 2 Renovations. Our organization is prepa...         45   \n",
       "2  We are currently doing a community wide \"Needs...     10-May   \n",
       "3  I am looking after Immunization Uptake Project...          3   \n",
       "4  Funded/fund-raising/awareness events and year ...     04-Feb   \n",
       "\n",
       "                                          question_7  \\\n",
       "0            Strategic, Analytical and Collaborative   \n",
       "1  Commitment to the project and a unified goal, ...   \n",
       "2  Not sure if TEAM is an acronym for something h...   \n",
       "3                                        commitment    \n",
       "4                                 Vision and intend.   \n",
       "\n",
       "                                          question_8  \n",
       "0  Maintaining Project on Track with respect to r...  \n",
       "1  Reduced efficiency and timeline drag due from ...  \n",
       "2  - taking the ideas and translating them into t...  \n",
       "3  Working with multiple stakeholders & communities   \n",
       "4                Understanding communication styles.  "
      ]
     },
     "execution_count": 3,
     "metadata": {},
     "output_type": "execute_result"
    }
   ],
   "source": [
    "pre_df.head()"
   ]
  },
  {
   "cell_type": "code",
   "execution_count": 4,
   "id": "c1c56d7f-c2a2-4894-95b6-75241872e098",
   "metadata": {},
   "outputs": [
    {
     "name": "stdout",
     "output_type": "stream",
     "text": [
      "<class 'pandas.core.frame.DataFrame'>\n",
      "RangeIndex: 6 entries, 0 to 5\n",
      "Data columns (total 11 columns):\n",
      " #   Column      Non-Null Count  Dtype  \n",
      "---  ------      --------------  -----  \n",
      " 0   ID          6 non-null      int64  \n",
      " 1   Email       6 non-null      object \n",
      " 2   Name        0 non-null      float64\n",
      " 3   question_1  6 non-null      object \n",
      " 4   question_2  6 non-null      object \n",
      " 5   question_3  6 non-null      object \n",
      " 6   question_4  6 non-null      object \n",
      " 7   question_5  6 non-null      object \n",
      " 8   question_6  6 non-null      object \n",
      " 9   question_7  6 non-null      object \n",
      " 10  question_8  6 non-null      object \n",
      "dtypes: float64(1), int64(1), object(9)\n",
      "memory usage: 656.0+ bytes\n"
     ]
    }
   ],
   "source": [
    "pre_df.info()"
   ]
  },
  {
   "cell_type": "code",
   "execution_count": 5,
   "id": "881f9514-5dec-46f5-b621-c8a9849108bb",
   "metadata": {},
   "outputs": [],
   "source": [
    "pre_df = pre_df.rename(columns={\"question_1\": \"attendee_roles\", \n",
    "                       \"question_2\": \"previous_attendenance\", \n",
    "                       \"question_3\": \"work_project_types\", \n",
    "                       \"question_4\": \"desc_mp\",\n",
    "                       \"question_5\": \"proj_descp\",\n",
    "                      \"question_6\": \"team_num\",\n",
    "                      \"question_7\": \"team_strength\",\n",
    "                      \"question_8\": \"proj_challenges\"})"
   ]
  },
  {
   "cell_type": "code",
   "execution_count": 6,
   "id": "50d43fd9-88b8-42fa-839b-b96c5d969563",
   "metadata": {},
   "outputs": [
    {
     "data": {
      "text/plain": [
       "(6, 11)"
      ]
     },
     "execution_count": 6,
     "metadata": {},
     "output_type": "execute_result"
    }
   ],
   "source": [
    "pre_df.shape"
   ]
  },
  {
   "cell_type": "markdown",
   "id": "eecf2374-bbef-45b5-a128-f9b2a5a5db56",
   "metadata": {},
   "source": [
    "There are 6 rows and 11 columns in the original dataset."
   ]
  },
  {
   "cell_type": "code",
   "execution_count": 7,
   "id": "7ed724f8-011d-4b51-9ebf-2da7277d6b49",
   "metadata": {},
   "outputs": [
    {
     "data": {
      "text/html": [
       "<div>\n",
       "<style scoped>\n",
       "    .dataframe tbody tr th:only-of-type {\n",
       "        vertical-align: middle;\n",
       "    }\n",
       "\n",
       "    .dataframe tbody tr th {\n",
       "        vertical-align: top;\n",
       "    }\n",
       "\n",
       "    .dataframe thead th {\n",
       "        text-align: right;\n",
       "    }\n",
       "</style>\n",
       "<table border=\"1\" class=\"dataframe\">\n",
       "  <thead>\n",
       "    <tr style=\"text-align: right;\">\n",
       "      <th></th>\n",
       "      <th>ID</th>\n",
       "      <th>Email</th>\n",
       "      <th>Name</th>\n",
       "      <th>attendee_roles</th>\n",
       "      <th>previous_attendenance</th>\n",
       "      <th>work_project_types</th>\n",
       "      <th>desc_mp</th>\n",
       "      <th>proj_descp</th>\n",
       "      <th>team_num</th>\n",
       "      <th>team_strength</th>\n",
       "      <th>proj_challenges</th>\n",
       "    </tr>\n",
       "  </thead>\n",
       "  <tbody>\n",
       "    <tr>\n",
       "      <th>0</th>\n",
       "      <td>1</td>\n",
       "      <td>anonymous</td>\n",
       "      <td>NaN</td>\n",
       "      <td>Project Manager;Subject Matter Expert (SME);</td>\n",
       "      <td>Yes I have attended Project Management Trainin...</td>\n",
       "      <td>Multiple Projects</td>\n",
       "      <td>I have been involved in various Projects and I...</td>\n",
       "      <td>Migration of CRM. In this Project, we are tryi...</td>\n",
       "      <td>5</td>\n",
       "      <td>Strategic, Analytical and Collaborative</td>\n",
       "      <td>Maintaining Project on Track with respect to r...</td>\n",
       "    </tr>\n",
       "    <tr>\n",
       "      <th>1</th>\n",
       "      <td>2</td>\n",
       "      <td>anonymous</td>\n",
       "      <td>NaN</td>\n",
       "      <td>Project Manager;</td>\n",
       "      <td>No</td>\n",
       "      <td>Multiple Projects</td>\n",
       "      <td>I manage multiple program schedules and teams,...</td>\n",
       "      <td>Phase 2 Renovations. Our organization is prepa...</td>\n",
       "      <td>45</td>\n",
       "      <td>Commitment to the project and a unified goal, ...</td>\n",
       "      <td>Reduced efficiency and timeline drag due from ...</td>\n",
       "    </tr>\n",
       "    <tr>\n",
       "      <th>2</th>\n",
       "      <td>3</td>\n",
       "      <td>anonymous</td>\n",
       "      <td>NaN</td>\n",
       "      <td>Not sure;non profit doing projects? ;</td>\n",
       "      <td>Nope!</td>\n",
       "      <td>Multiple Projects</td>\n",
       "      <td>Multiple community based projects (event plann...</td>\n",
       "      <td>We are currently doing a community wide \"Needs...</td>\n",
       "      <td>10-May</td>\n",
       "      <td>Not sure if TEAM is an acronym for something h...</td>\n",
       "      <td>- taking the ideas and translating them into t...</td>\n",
       "    </tr>\n",
       "    <tr>\n",
       "      <th>3</th>\n",
       "      <td>4</td>\n",
       "      <td>anonymous</td>\n",
       "      <td>NaN</td>\n",
       "      <td>Project Manager;</td>\n",
       "      <td>I had some training during my master's degree ...</td>\n",
       "      <td>Multiple Projects</td>\n",
       "      <td>Personal &amp; professional</td>\n",
       "      <td>I am looking after Immunization Uptake Project...</td>\n",
       "      <td>3</td>\n",
       "      <td>commitment</td>\n",
       "      <td>Working with multiple stakeholders &amp; communities</td>\n",
       "    </tr>\n",
       "    <tr>\n",
       "      <th>4</th>\n",
       "      <td>5</td>\n",
       "      <td>anonymous</td>\n",
       "      <td>NaN</td>\n",
       "      <td>Project Team Member;</td>\n",
       "      <td>No\\n</td>\n",
       "      <td>Multiple Projects</td>\n",
       "      <td>Funded/fund-raising/awareness events and year ...</td>\n",
       "      <td>Funded/fund-raising/awareness events and year ...</td>\n",
       "      <td>04-Feb</td>\n",
       "      <td>Vision and intend.</td>\n",
       "      <td>Understanding communication styles.</td>\n",
       "    </tr>\n",
       "    <tr>\n",
       "      <th>5</th>\n",
       "      <td>6</td>\n",
       "      <td>anonymous</td>\n",
       "      <td>NaN</td>\n",
       "      <td>Project Manager;</td>\n",
       "      <td>Yes I used to participate as a Pmi member before</td>\n",
       "      <td>Multiple Projects</td>\n",
       "      <td>N. A</td>\n",
       "      <td>I would love to participate as a trainer volun...</td>\n",
       "      <td>N.A.</td>\n",
       "      <td>N.A.</td>\n",
       "      <td>Wrong comunication \\n</td>\n",
       "    </tr>\n",
       "  </tbody>\n",
       "</table>\n",
       "</div>"
      ],
      "text/plain": [
       "   ID      Email  Name                                attendee_roles  \\\n",
       "0   1  anonymous   NaN  Project Manager;Subject Matter Expert (SME);   \n",
       "1   2  anonymous   NaN                              Project Manager;   \n",
       "2   3  anonymous   NaN         Not sure;non profit doing projects? ;   \n",
       "3   4  anonymous   NaN                              Project Manager;   \n",
       "4   5  anonymous   NaN                          Project Team Member;   \n",
       "5   6  anonymous   NaN                              Project Manager;   \n",
       "\n",
       "                               previous_attendenance work_project_types  \\\n",
       "0  Yes I have attended Project Management Trainin...  Multiple Projects   \n",
       "1                                                 No  Multiple Projects   \n",
       "2                                             Nope!   Multiple Projects   \n",
       "3  I had some training during my master's degree ...  Multiple Projects   \n",
       "4                                               No\\n  Multiple Projects   \n",
       "5  Yes I used to participate as a Pmi member before   Multiple Projects   \n",
       "\n",
       "                                             desc_mp  \\\n",
       "0  I have been involved in various Projects and I...   \n",
       "1  I manage multiple program schedules and teams,...   \n",
       "2  Multiple community based projects (event plann...   \n",
       "3                           Personal & professional    \n",
       "4  Funded/fund-raising/awareness events and year ...   \n",
       "5                                               N. A   \n",
       "\n",
       "                                          proj_descp team_num  \\\n",
       "0  Migration of CRM. In this Project, we are tryi...        5   \n",
       "1  Phase 2 Renovations. Our organization is prepa...       45   \n",
       "2  We are currently doing a community wide \"Needs...   10-May   \n",
       "3  I am looking after Immunization Uptake Project...        3   \n",
       "4  Funded/fund-raising/awareness events and year ...   04-Feb   \n",
       "5  I would love to participate as a trainer volun...     N.A.   \n",
       "\n",
       "                                       team_strength  \\\n",
       "0            Strategic, Analytical and Collaborative   \n",
       "1  Commitment to the project and a unified goal, ...   \n",
       "2  Not sure if TEAM is an acronym for something h...   \n",
       "3                                        commitment    \n",
       "4                                 Vision and intend.   \n",
       "5                                               N.A.   \n",
       "\n",
       "                                     proj_challenges  \n",
       "0  Maintaining Project on Track with respect to r...  \n",
       "1  Reduced efficiency and timeline drag due from ...  \n",
       "2  - taking the ideas and translating them into t...  \n",
       "3  Working with multiple stakeholders & communities   \n",
       "4                Understanding communication styles.  \n",
       "5                              Wrong comunication \\n  "
      ]
     },
     "execution_count": 7,
     "metadata": {},
     "output_type": "execute_result"
    }
   ],
   "source": [
    "pre_df"
   ]
  },
  {
   "cell_type": "code",
   "execution_count": 8,
   "id": "f63ba82f-23d8-4740-b96c-962c38d7edaa",
   "metadata": {},
   "outputs": [],
   "source": [
    "### data cleaning \n",
    "pre_df = pre_df.replace(to_replace =\"10-May\",\n",
    "                 value =\"5-10\")\n",
    "pre_df = pre_df.replace(to_replace =\"04-Feb\",\n",
    "                 value =\"2-4\")\n",
    "\n",
    "pre_df['mp_team_cat'] = ['below 5', 'above 20', '6-10', 'below 5', 'below 5', 'NA']\n",
    "pre_df['prev_att_cat'] = ['Yes', 'No', 'No', 'Yes', 'No', 'Yes']"
   ]
  },
  {
   "cell_type": "markdown",
   "id": "7add925e-dd4b-4918-9041-e752f595497e",
   "metadata": {},
   "source": [
    "### Question 1: Do you consider yourself to be one or more of the following roles (please select all that apply"
   ]
  },
  {
   "cell_type": "code",
   "execution_count": 9,
   "id": "cebf1a3a-87e8-483d-aa4b-c67ac840a6dc",
   "metadata": {},
   "outputs": [
    {
     "data": {
      "text/plain": [
       "array(['Project Manager;Subject Matter Expert (SME);', 'Project Manager;',\n",
       "       'Not sure;non profit doing projects? ;', 'Project Team Member;'],\n",
       "      dtype=object)"
      ]
     },
     "execution_count": 9,
     "metadata": {},
     "output_type": "execute_result"
    }
   ],
   "source": [
    "pre_df.attendee_roles.unique()"
   ]
  },
  {
   "cell_type": "code",
   "execution_count": 10,
   "id": "eb5d0ef1-0b8d-4f96-ab66-5adc00f74e08",
   "metadata": {},
   "outputs": [],
   "source": [
    "q1_df = pre_df[[\"ID\", \"attendee_roles\"]]\n",
    "q1_df_new = q1_df.copy()"
   ]
  },
  {
   "cell_type": "code",
   "execution_count": 11,
   "id": "b2343d69-960a-4893-86e1-b69f7cff5c44",
   "metadata": {},
   "outputs": [],
   "source": [
    "q1_df_new = q1_df_new.assign(attendee_roles=q1_df_new.attendee_roles.str.split(\";\")).explode('attendee_roles')\n",
    "q1_df_new['attendee_roles'].replace('', np.nan, inplace=True)\n",
    "q1_df_new.dropna(subset=['attendee_roles'], inplace=True)"
   ]
  },
  {
   "cell_type": "code",
   "execution_count": 12,
   "id": "3627fad3-5932-4d1f-a803-dad95e09755b",
   "metadata": {},
   "outputs": [
    {
     "data": {
      "text/html": [
       "<div>\n",
       "<style scoped>\n",
       "    .dataframe tbody tr th:only-of-type {\n",
       "        vertical-align: middle;\n",
       "    }\n",
       "\n",
       "    .dataframe tbody tr th {\n",
       "        vertical-align: top;\n",
       "    }\n",
       "\n",
       "    .dataframe thead th {\n",
       "        text-align: right;\n",
       "    }\n",
       "</style>\n",
       "<table border=\"1\" class=\"dataframe\">\n",
       "  <thead>\n",
       "    <tr style=\"text-align: right;\">\n",
       "      <th></th>\n",
       "      <th>ID</th>\n",
       "      <th>attendee_roles</th>\n",
       "    </tr>\n",
       "  </thead>\n",
       "  <tbody>\n",
       "    <tr>\n",
       "      <th>0</th>\n",
       "      <td>1</td>\n",
       "      <td>Project Manager</td>\n",
       "    </tr>\n",
       "    <tr>\n",
       "      <th>0</th>\n",
       "      <td>1</td>\n",
       "      <td>Subject Matter Expert (SME)</td>\n",
       "    </tr>\n",
       "    <tr>\n",
       "      <th>1</th>\n",
       "      <td>2</td>\n",
       "      <td>Project Manager</td>\n",
       "    </tr>\n",
       "    <tr>\n",
       "      <th>2</th>\n",
       "      <td>3</td>\n",
       "      <td>Not sure</td>\n",
       "    </tr>\n",
       "    <tr>\n",
       "      <th>2</th>\n",
       "      <td>3</td>\n",
       "      <td>non profit doing projects?</td>\n",
       "    </tr>\n",
       "    <tr>\n",
       "      <th>3</th>\n",
       "      <td>4</td>\n",
       "      <td>Project Manager</td>\n",
       "    </tr>\n",
       "    <tr>\n",
       "      <th>4</th>\n",
       "      <td>5</td>\n",
       "      <td>Project Team Member</td>\n",
       "    </tr>\n",
       "    <tr>\n",
       "      <th>5</th>\n",
       "      <td>6</td>\n",
       "      <td>Project Manager</td>\n",
       "    </tr>\n",
       "  </tbody>\n",
       "</table>\n",
       "</div>"
      ],
      "text/plain": [
       "   ID               attendee_roles\n",
       "0   1              Project Manager\n",
       "0   1  Subject Matter Expert (SME)\n",
       "1   2              Project Manager\n",
       "2   3                     Not sure\n",
       "2   3  non profit doing projects? \n",
       "3   4              Project Manager\n",
       "4   5          Project Team Member\n",
       "5   6              Project Manager"
      ]
     },
     "execution_count": 12,
     "metadata": {},
     "output_type": "execute_result"
    }
   ],
   "source": [
    "q1_df_new"
   ]
  },
  {
   "cell_type": "code",
   "execution_count": 16,
   "id": "fa432940-8c7e-4f78-8815-dc8364eccbb7",
   "metadata": {},
   "outputs": [
    {
     "data": {
      "text/html": [
       "\n",
       "<div id=\"altair-viz-9c705729ccfd47ddb4ef19a637c3acc4\"></div>\n",
       "<script type=\"text/javascript\">\n",
       "  var VEGA_DEBUG = (typeof VEGA_DEBUG == \"undefined\") ? {} : VEGA_DEBUG;\n",
       "  (function(spec, embedOpt){\n",
       "    let outputDiv = document.currentScript.previousElementSibling;\n",
       "    if (outputDiv.id !== \"altair-viz-9c705729ccfd47ddb4ef19a637c3acc4\") {\n",
       "      outputDiv = document.getElementById(\"altair-viz-9c705729ccfd47ddb4ef19a637c3acc4\");\n",
       "    }\n",
       "    const paths = {\n",
       "      \"vega\": \"https://cdn.jsdelivr.net/npm//vega@5?noext\",\n",
       "      \"vega-lib\": \"https://cdn.jsdelivr.net/npm//vega-lib?noext\",\n",
       "      \"vega-lite\": \"https://cdn.jsdelivr.net/npm//vega-lite@4.17.0?noext\",\n",
       "      \"vega-embed\": \"https://cdn.jsdelivr.net/npm//vega-embed@6?noext\",\n",
       "    };\n",
       "\n",
       "    function maybeLoadScript(lib, version) {\n",
       "      var key = `${lib.replace(\"-\", \"\")}_version`;\n",
       "      return (VEGA_DEBUG[key] == version) ?\n",
       "        Promise.resolve(paths[lib]) :\n",
       "        new Promise(function(resolve, reject) {\n",
       "          var s = document.createElement('script');\n",
       "          document.getElementsByTagName(\"head\")[0].appendChild(s);\n",
       "          s.async = true;\n",
       "          s.onload = () => {\n",
       "            VEGA_DEBUG[key] = version;\n",
       "            return resolve(paths[lib]);\n",
       "          };\n",
       "          s.onerror = () => reject(`Error loading script: ${paths[lib]}`);\n",
       "          s.src = paths[lib];\n",
       "        });\n",
       "    }\n",
       "\n",
       "    function showError(err) {\n",
       "      outputDiv.innerHTML = `<div class=\"error\" style=\"color:red;\">${err}</div>`;\n",
       "      throw err;\n",
       "    }\n",
       "\n",
       "    function displayChart(vegaEmbed) {\n",
       "      vegaEmbed(outputDiv, spec, embedOpt)\n",
       "        .catch(err => showError(`Javascript Error: ${err.message}<br>This usually means there's a typo in your chart specification. See the javascript console for the full traceback.`));\n",
       "    }\n",
       "\n",
       "    if(typeof define === \"function\" && define.amd) {\n",
       "      requirejs.config({paths});\n",
       "      require([\"vega-embed\"], displayChart, err => showError(`Error loading script: ${err.message}`));\n",
       "    } else {\n",
       "      maybeLoadScript(\"vega\", \"5\")\n",
       "        .then(() => maybeLoadScript(\"vega-lite\", \"4.17.0\"))\n",
       "        .then(() => maybeLoadScript(\"vega-embed\", \"6\"))\n",
       "        .catch(showError)\n",
       "        .then(() => displayChart(vegaEmbed));\n",
       "    }\n",
       "  })({\"config\": {\"view\": {\"continuousWidth\": 400, \"continuousHeight\": 300}}, \"layer\": [{\"mark\": \"bar\", \"encoding\": {\"x\": {\"axis\": {\"format\": \"%\"}, \"field\": \"percent\", \"title\": \"Response percerntage (%)\", \"type\": \"quantitative\"}, \"y\": {\"field\": \"attendee_roles\", \"sort\": \"x\", \"title\": \"\", \"type\": \"nominal\"}}, \"height\": 200, \"title\": \"Current roles of workshop participants, (n=6)\", \"transform\": [{\"joinaggregate\": [{\"op\": \"count\", \"as\": \"total\"}], \"groupby\": [\"attendee_roles\"]}, {\"calculate\": \"(datum.total / 6)\", \"as\": \"percent\"}], \"width\": 400}, {\"mark\": {\"type\": \"text\", \"align\": \"right\"}, \"encoding\": {\"text\": {\"field\": \"percent\", \"format\": \".1%\", \"type\": \"quantitative\"}, \"x\": {\"field\": \"percent\", \"type\": \"quantitative\"}, \"y\": {\"field\": \"attendee_roles\", \"sort\": \"x\", \"type\": \"nominal\"}}, \"height\": 200, \"title\": \"Current roles of workshop participants, (n=6)\", \"transform\": [{\"joinaggregate\": [{\"op\": \"count\", \"as\": \"total\"}], \"groupby\": [\"attendee_roles\"]}, {\"calculate\": \"(datum.total / 6)\", \"as\": \"percent\"}], \"width\": 400}], \"data\": {\"name\": \"data-f52a2f9fca2c7a1f8b2985b0bbcdd47d\"}, \"$schema\": \"https://vega.github.io/schema/vega-lite/v4.17.0.json\", \"datasets\": {\"data-f52a2f9fca2c7a1f8b2985b0bbcdd47d\": [{\"ID\": 1, \"attendee_roles\": \"Project Manager\"}, {\"ID\": 1, \"attendee_roles\": \"Subject Matter Expert (SME)\"}, {\"ID\": 2, \"attendee_roles\": \"Project Manager\"}, {\"ID\": 3, \"attendee_roles\": \"Not sure\"}, {\"ID\": 3, \"attendee_roles\": \"non profit doing projects? \"}, {\"ID\": 4, \"attendee_roles\": \"Project Manager\"}, {\"ID\": 5, \"attendee_roles\": \"Project Team Member\"}, {\"ID\": 6, \"attendee_roles\": \"Project Manager\"}]}}, {\"mode\": \"vega-lite\"});\n",
       "</script>"
      ],
      "text/plain": [
       "alt.LayerChart(...)"
      ]
     },
     "execution_count": 16,
     "metadata": {},
     "output_type": "execute_result"
    }
   ],
   "source": [
    "bar = alt.Chart(q1_df_new, title=\"Current roles of workshop participants, (n=6)\"\n",
    "               ).transform_joinaggregate(\n",
    "    total='count()',\n",
    "    groupby=['attendee_roles']\n",
    ").transform_calculate(\n",
    "    percent=alt.datum.total/6\n",
    ").mark_bar().encode(\n",
    "    x= alt.X('percent:Q', title = \"Response percerntage (%)\", axis=alt.Axis(format='%')),\n",
    "    y=alt.Y('attendee_roles', sort='x', title=\"\")\n",
    "    ).properties(\n",
    "    width=400,\n",
    "    height=200\n",
    "    )\n",
    "\n",
    "text = alt.Chart(q1_df_new, title=\"Current roles of workshop participants, (n=6)\"\n",
    "               ).transform_joinaggregate(\n",
    "    total='count()',\n",
    "    groupby=['attendee_roles']\n",
    ").transform_calculate(\n",
    "    percent=alt.datum.total/6\n",
    ").mark_text(\n",
    "        align='right',\n",
    "    ).encode(\n",
    "        y = alt.Y('attendee_roles', sort = 'x'),\n",
    "        x = alt.X('percent:Q'),\n",
    "        text=alt.Text('percent:Q',format='.1%')\n",
    ").properties(\n",
    "    width=400,\n",
    "    height=200\n",
    "    )\n",
    "\n",
    "q1_plot = alt.layer(bar, text, data=q1_df_new)\n",
    "\n",
    "# Show the plot|\n",
    "q1_plot"
   ]
  },
  {
   "cell_type": "markdown",
   "id": "a4cbe0f4-5961-4df9-b986-2fa42209063f",
   "metadata": {},
   "source": [
    "### Question 2: Have you ever attended a course or viewed an educational webinar about project management?  If so please describe this training."
   ]
  },
  {
   "cell_type": "code",
   "execution_count": 17,
   "id": "cf52a565-d563-4a07-b2ca-83d2409063e4",
   "metadata": {},
   "outputs": [
    {
     "data": {
      "text/plain": [
       "array(['Yes I have attended Project Management Training and earned 35 PDUs earlier. ',\n",
       "       'No', 'Nope! ',\n",
       "       \"I had some training during my master's degree course \", 'No\\n',\n",
       "       'Yes I used to participate as a Pmi member before '], dtype=object)"
      ]
     },
     "execution_count": 17,
     "metadata": {},
     "output_type": "execute_result"
    }
   ],
   "source": [
    "pre_df.previous_attendenance.unique()"
   ]
  },
  {
   "cell_type": "code",
   "execution_count": 18,
   "id": "90afd8ab-5887-4fdd-8cee-4e280a99478c",
   "metadata": {},
   "outputs": [],
   "source": [
    "yes_bool = pre_df[\"previous_attendenance\"].str.contains('Yes|some')"
   ]
  },
  {
   "cell_type": "code",
   "execution_count": 19,
   "id": "827db76b-6085-446f-8dd3-974b32706397",
   "metadata": {},
   "outputs": [
    {
     "data": {
      "text/plain": [
       "True     0.5\n",
       "False    0.5\n",
       "Name: previous_attendenance, dtype: float64"
      ]
     },
     "execution_count": 19,
     "metadata": {},
     "output_type": "execute_result"
    }
   ],
   "source": [
    "yes_bool.value_counts(normalize=True)"
   ]
  },
  {
   "cell_type": "code",
   "execution_count": 22,
   "id": "60b42abc-7ae8-43f5-93cf-116434eeec4f",
   "metadata": {},
   "outputs": [
    {
     "data": {
      "text/html": [
       "\n",
       "<div id=\"altair-viz-264f06fbb5e1454f85dea4599dfbfaef\"></div>\n",
       "<script type=\"text/javascript\">\n",
       "  var VEGA_DEBUG = (typeof VEGA_DEBUG == \"undefined\") ? {} : VEGA_DEBUG;\n",
       "  (function(spec, embedOpt){\n",
       "    let outputDiv = document.currentScript.previousElementSibling;\n",
       "    if (outputDiv.id !== \"altair-viz-264f06fbb5e1454f85dea4599dfbfaef\") {\n",
       "      outputDiv = document.getElementById(\"altair-viz-264f06fbb5e1454f85dea4599dfbfaef\");\n",
       "    }\n",
       "    const paths = {\n",
       "      \"vega\": \"https://cdn.jsdelivr.net/npm//vega@5?noext\",\n",
       "      \"vega-lib\": \"https://cdn.jsdelivr.net/npm//vega-lib?noext\",\n",
       "      \"vega-lite\": \"https://cdn.jsdelivr.net/npm//vega-lite@4.17.0?noext\",\n",
       "      \"vega-embed\": \"https://cdn.jsdelivr.net/npm//vega-embed@6?noext\",\n",
       "    };\n",
       "\n",
       "    function maybeLoadScript(lib, version) {\n",
       "      var key = `${lib.replace(\"-\", \"\")}_version`;\n",
       "      return (VEGA_DEBUG[key] == version) ?\n",
       "        Promise.resolve(paths[lib]) :\n",
       "        new Promise(function(resolve, reject) {\n",
       "          var s = document.createElement('script');\n",
       "          document.getElementsByTagName(\"head\")[0].appendChild(s);\n",
       "          s.async = true;\n",
       "          s.onload = () => {\n",
       "            VEGA_DEBUG[key] = version;\n",
       "            return resolve(paths[lib]);\n",
       "          };\n",
       "          s.onerror = () => reject(`Error loading script: ${paths[lib]}`);\n",
       "          s.src = paths[lib];\n",
       "        });\n",
       "    }\n",
       "\n",
       "    function showError(err) {\n",
       "      outputDiv.innerHTML = `<div class=\"error\" style=\"color:red;\">${err}</div>`;\n",
       "      throw err;\n",
       "    }\n",
       "\n",
       "    function displayChart(vegaEmbed) {\n",
       "      vegaEmbed(outputDiv, spec, embedOpt)\n",
       "        .catch(err => showError(`Javascript Error: ${err.message}<br>This usually means there's a typo in your chart specification. See the javascript console for the full traceback.`));\n",
       "    }\n",
       "\n",
       "    if(typeof define === \"function\" && define.amd) {\n",
       "      requirejs.config({paths});\n",
       "      require([\"vega-embed\"], displayChart, err => showError(`Error loading script: ${err.message}`));\n",
       "    } else {\n",
       "      maybeLoadScript(\"vega\", \"5\")\n",
       "        .then(() => maybeLoadScript(\"vega-lite\", \"4.17.0\"))\n",
       "        .then(() => maybeLoadScript(\"vega-embed\", \"6\"))\n",
       "        .catch(showError)\n",
       "        .then(() => displayChart(vegaEmbed));\n",
       "    }\n",
       "  })({\"config\": {\"view\": {\"continuousWidth\": 400, \"continuousHeight\": 300}}, \"layer\": [{\"mark\": \"bar\", \"encoding\": {\"x\": {\"axis\": {\"format\": \"%\"}, \"field\": \"percent\", \"title\": \"Response percerntage (%)\", \"type\": \"quantitative\"}, \"y\": {\"field\": \"prev_att_cat\", \"sort\": \"x\", \"title\": \"\", \"type\": \"nominal\"}}, \"height\": 100, \"title\": \"Previous experience with project manangement content, (n=6)\", \"transform\": [{\"joinaggregate\": [{\"op\": \"count\", \"as\": \"total\"}], \"groupby\": [\"prev_att_cat\"]}, {\"calculate\": \"(datum.total / 6)\", \"as\": \"percent\"}], \"width\": 400}, {\"mark\": {\"type\": \"text\", \"align\": \"right\"}, \"encoding\": {\"text\": {\"field\": \"percent\", \"format\": \".1%\", \"type\": \"quantitative\"}, \"x\": {\"field\": \"percent\", \"type\": \"quantitative\"}, \"y\": {\"field\": \"prev_att_cat\", \"sort\": \"x\", \"type\": \"nominal\"}}, \"height\": 100, \"title\": \"Previous experience with project manangement content, (n=6)\", \"transform\": [{\"joinaggregate\": [{\"op\": \"count\", \"as\": \"total\"}], \"groupby\": [\"prev_att_cat\"]}, {\"calculate\": \"(datum.total / 6)\", \"as\": \"percent\"}], \"width\": 400}], \"data\": {\"name\": \"data-eb7a268133d6089ac931482acd5f3cac\"}, \"$schema\": \"https://vega.github.io/schema/vega-lite/v4.17.0.json\", \"datasets\": {\"data-eb7a268133d6089ac931482acd5f3cac\": [{\"ID\": 1, \"Email\": \"anonymous\", \"Name\": null, \"attendee_roles\": \"Project Manager;Subject Matter Expert (SME);\", \"previous_attendenance\": \"Yes I have attended Project Management Training and earned 35 PDUs earlier. \", \"work_project_types\": \"Multiple Projects\", \"desc_mp\": \"I have been involved in various Projects and I have to be agile in doing the Project Management.\", \"proj_descp\": \"Migration of CRM. In this Project, we are trying to migrate an old Access CRM to a new CRM-Which is more sophisticated and easy to use.\", \"team_num\": \"5\", \"team_strength\": \"Strategic, Analytical and Collaborative\", \"proj_challenges\": \"Maintaining Project on Track with respect to resources, timelines and Budget. Mitigating Risks. Adapting agile mindset in the team\", \"mp_team_cat\": \"below 5\", \"prev_att_cat\": \"Yes\"}, {\"ID\": 2, \"Email\": \"anonymous\", \"Name\": null, \"attendee_roles\": \"Project Manager;\", \"previous_attendenance\": \"No\", \"work_project_types\": \"Multiple Projects\", \"desc_mp\": \"I manage multiple program schedules and teams, lead group projects with several committees, coordinate daily volunteers, direct and coordinate administrative teams and am the primary driving force for our annual action plans/strategic plan. I have one staff member and everyone else are volunteers.\", \"proj_descp\": \"Phase 2 Renovations. Our organization is preparing for the final phase of renovations to our new facility and my role will involve coordination of facility oversight committees, contractors, grant and fundraising teams, consultants and volunteers while working alongside Island Health and other regulatory bodies. \", \"team_num\": \"45\", \"team_strength\": \"Commitment to the project and a unified goal, expertise in various related fields.\", \"proj_challenges\": \"Reduced efficiency and timeline drag due from under-structured or unwritten input and approval processes. Chronic games of 'telephone' i.e. the same information being shared with different individuals over and over again with details being lost along the way.\\nProject Management availability/overload -I will wind up playing the central role in this project, but I am also expected to keep operations and all other smaller projects moving forward. \", \"mp_team_cat\": \"above 20\", \"prev_att_cat\": \"No\"}, {\"ID\": 3, \"Email\": \"anonymous\", \"Name\": null, \"attendee_roles\": \"Not sure;non profit doing projects? ;\", \"previous_attendenance\": \"Nope! \", \"work_project_types\": \"Multiple Projects\", \"desc_mp\": \"Multiple community based projects (event planning, community projects (placemaking), long term and short term projects) \", \"proj_descp\": \"We are currently doing a community wide \\\"Needs Assessment\\\" with a UVic researcher. This needs assessment will then be carried into a longer term community wide visioning process in Fall 2022. This project will include community engagement, another partnership with UVic, collaboration with the City, and reporting out to community and grant funders. \", \"team_num\": \"5-10\", \"team_strength\": \"Not sure if TEAM is an acronym for something here? \\nBut strengths are - a motivated, involved, and ambitious community, we have lots of pre-existing research to build on.  \", \"proj_challenges\": \"- taking the ideas and translating them into tangible actions/requests. \\n- Capacity issues (I'm the only full time staff, everyone else is volunteer / very limited hours contractor) \\n- reluctant partners (the City of Victoria) in collaborating on potential actions/requests/community vision \", \"mp_team_cat\": \"6-10\", \"prev_att_cat\": \"No\"}, {\"ID\": 4, \"Email\": \"anonymous\", \"Name\": null, \"attendee_roles\": \"Project Manager;\", \"previous_attendenance\": \"I had some training during my master's degree course \", \"work_project_types\": \"Multiple Projects\", \"desc_mp\": \"Personal & professional \", \"proj_descp\": \"I am looking after Immunization Uptake Project with MOSAIC \", \"team_num\": \"3\", \"team_strength\": \"commitment \", \"proj_challenges\": \"Working with multiple stakeholders & communities \", \"mp_team_cat\": \"below 5\", \"prev_att_cat\": \"Yes\"}, {\"ID\": 5, \"Email\": \"anonymous\", \"Name\": null, \"attendee_roles\": \"Project Team Member;\", \"previous_attendenance\": \"No\\n\", \"work_project_types\": \"Multiple Projects\", \"desc_mp\": \"Funded/fund-raising/awareness events and year long projects.\", \"proj_descp\": \"Funded/fund-raising/awareness events and year long projects.\", \"team_num\": \"2-4\", \"team_strength\": \"Vision and intend.\", \"proj_challenges\": \"Understanding communication styles.\", \"mp_team_cat\": \"below 5\", \"prev_att_cat\": \"No\"}, {\"ID\": 6, \"Email\": \"anonymous\", \"Name\": null, \"attendee_roles\": \"Project Manager;\", \"previous_attendenance\": \"Yes I used to participate as a Pmi member before \", \"work_project_types\": \"Multiple Projects\", \"desc_mp\": \"N. A\", \"proj_descp\": \"I would love to participate as a trainer volunteer  \", \"team_num\": \"N.A.\", \"team_strength\": \"N.A.\", \"proj_challenges\": \"Wrong comunication \\n\", \"mp_team_cat\": \"NA\", \"prev_att_cat\": \"Yes\"}]}}, {\"mode\": \"vega-lite\"});\n",
       "</script>"
      ],
      "text/plain": [
       "alt.LayerChart(...)"
      ]
     },
     "execution_count": 22,
     "metadata": {},
     "output_type": "execute_result"
    }
   ],
   "source": [
    "bar = alt.Chart(pre_df, title=\"Previous experience with project manangement content, (n=6)\"\n",
    "               ).transform_joinaggregate(\n",
    "    total='count()',\n",
    "    groupby=['prev_att_cat']\n",
    ").transform_calculate(\n",
    "    percent=alt.datum.total/6\n",
    ").mark_bar().encode(\n",
    "    x= alt.X('percent:Q', title = \"Response percerntage (%)\", axis=alt.Axis(format='%')),\n",
    "    y=alt.Y('prev_att_cat', sort='x', title=\"\")\n",
    "    ).properties(\n",
    "    width=400,\n",
    "    height=100\n",
    "    )\n",
    "\n",
    "text = alt.Chart(pre_df, title=\"Previous experience with project manangement content, (n=6)\"\n",
    "               ).transform_joinaggregate(\n",
    "    total='count()',\n",
    "    groupby=['prev_att_cat']\n",
    ").transform_calculate(\n",
    "    percent=alt.datum.total/6\n",
    ").mark_text(\n",
    "        align='right',\n",
    "    ).encode(\n",
    "        y = alt.Y('prev_att_cat', sort = 'x'),\n",
    "        x = alt.X('percent:Q'),\n",
    "        text=alt.Text('percent:Q',format='.1%')\n",
    ").properties(\n",
    "    width=400,\n",
    "    height=100\n",
    "    )\n",
    "\n",
    "q2_plot = alt.layer(bar, text, data=pre_df)\n",
    "\n",
    "# Show the plot|\n",
    "q2_plot"
   ]
  },
  {
   "cell_type": "markdown",
   "id": "5aac85f5-6973-4968-9a88-83ffc16fd1ad",
   "metadata": {},
   "source": [
    "### Question 3: At work are you typically focused on one project at a time or multiple projects?"
   ]
  },
  {
   "cell_type": "code",
   "execution_count": 23,
   "id": "c9bf5e46-3824-466c-8490-f377262a727f",
   "metadata": {},
   "outputs": [
    {
     "data": {
      "text/plain": [
       "Multiple Projects    6\n",
       "Name: work_project_types, dtype: int64"
      ]
     },
     "execution_count": 23,
     "metadata": {},
     "output_type": "execute_result"
    }
   ],
   "source": [
    "pre_df.work_project_types.value_counts()"
   ]
  },
  {
   "cell_type": "markdown",
   "id": "6020e435-631a-4901-876e-cee1d70540a4",
   "metadata": {},
   "source": [
    "### Question 4: If multiple projects, please describe or type N/A for not applicable?"
   ]
  },
  {
   "cell_type": "code",
   "execution_count": null,
   "id": "60903f84-81b2-4f80-9ed1-a4103d5f5304",
   "metadata": {},
   "outputs": [],
   "source": []
  },
  {
   "cell_type": "code",
   "execution_count": null,
   "id": "20c08ef5-45bb-4ac2-896d-cc0682edb862",
   "metadata": {},
   "outputs": [],
   "source": []
  },
  {
   "cell_type": "code",
   "execution_count": null,
   "id": "56fa8d1b-e683-40d9-8721-6a9fd048bb75",
   "metadata": {},
   "outputs": [],
   "source": []
  },
  {
   "cell_type": "markdown",
   "id": "74b9dda8-2c4c-40d9-9fdc-2fbdf27008b5",
   "metadata": {},
   "source": [
    "### Question 7: Approximately how many team members, including you, will be active on that particular project?"
   ]
  },
  {
   "cell_type": "code",
   "execution_count": 24,
   "id": "0385359c-ae04-437e-9b2e-3444dcdaa247",
   "metadata": {},
   "outputs": [
    {
     "data": {
      "text/plain": [
       "5       1\n",
       "45      1\n",
       "5-10    1\n",
       "3       1\n",
       "2-4     1\n",
       "N.A.    1\n",
       "Name: team_num, dtype: int64"
      ]
     },
     "execution_count": 24,
     "metadata": {},
     "output_type": "execute_result"
    }
   ],
   "source": [
    "pre_df.team_num.value_counts()"
   ]
  },
  {
   "cell_type": "markdown",
   "id": "392cd69a-ebf1-4ecf-a9ee-7abe2658e194",
   "metadata": {},
   "source": [
    "Note: make these integers or category options in the survey for better analysis"
   ]
  },
  {
   "cell_type": "code",
   "execution_count": 25,
   "id": "55218615-30a0-49ef-909d-84f1a8394351",
   "metadata": {},
   "outputs": [
    {
     "data": {
      "text/plain": [
       "below 5     3\n",
       "above 20    1\n",
       "6-10        1\n",
       "NA          1\n",
       "Name: mp_team_cat, dtype: int64"
      ]
     },
     "execution_count": 25,
     "metadata": {},
     "output_type": "execute_result"
    }
   ],
   "source": [
    "pre_df.mp_team_cat.value_counts()"
   ]
  },
  {
   "cell_type": "code",
   "execution_count": 27,
   "id": "baeeb911-b6c7-401d-a0ba-f551e500c68b",
   "metadata": {},
   "outputs": [
    {
     "data": {
      "text/html": [
       "\n",
       "<div id=\"altair-viz-eb96b12c36d24fc5873891d68ba29339\"></div>\n",
       "<script type=\"text/javascript\">\n",
       "  var VEGA_DEBUG = (typeof VEGA_DEBUG == \"undefined\") ? {} : VEGA_DEBUG;\n",
       "  (function(spec, embedOpt){\n",
       "    let outputDiv = document.currentScript.previousElementSibling;\n",
       "    if (outputDiv.id !== \"altair-viz-eb96b12c36d24fc5873891d68ba29339\") {\n",
       "      outputDiv = document.getElementById(\"altair-viz-eb96b12c36d24fc5873891d68ba29339\");\n",
       "    }\n",
       "    const paths = {\n",
       "      \"vega\": \"https://cdn.jsdelivr.net/npm//vega@5?noext\",\n",
       "      \"vega-lib\": \"https://cdn.jsdelivr.net/npm//vega-lib?noext\",\n",
       "      \"vega-lite\": \"https://cdn.jsdelivr.net/npm//vega-lite@4.17.0?noext\",\n",
       "      \"vega-embed\": \"https://cdn.jsdelivr.net/npm//vega-embed@6?noext\",\n",
       "    };\n",
       "\n",
       "    function maybeLoadScript(lib, version) {\n",
       "      var key = `${lib.replace(\"-\", \"\")}_version`;\n",
       "      return (VEGA_DEBUG[key] == version) ?\n",
       "        Promise.resolve(paths[lib]) :\n",
       "        new Promise(function(resolve, reject) {\n",
       "          var s = document.createElement('script');\n",
       "          document.getElementsByTagName(\"head\")[0].appendChild(s);\n",
       "          s.async = true;\n",
       "          s.onload = () => {\n",
       "            VEGA_DEBUG[key] = version;\n",
       "            return resolve(paths[lib]);\n",
       "          };\n",
       "          s.onerror = () => reject(`Error loading script: ${paths[lib]}`);\n",
       "          s.src = paths[lib];\n",
       "        });\n",
       "    }\n",
       "\n",
       "    function showError(err) {\n",
       "      outputDiv.innerHTML = `<div class=\"error\" style=\"color:red;\">${err}</div>`;\n",
       "      throw err;\n",
       "    }\n",
       "\n",
       "    function displayChart(vegaEmbed) {\n",
       "      vegaEmbed(outputDiv, spec, embedOpt)\n",
       "        .catch(err => showError(`Javascript Error: ${err.message}<br>This usually means there's a typo in your chart specification. See the javascript console for the full traceback.`));\n",
       "    }\n",
       "\n",
       "    if(typeof define === \"function\" && define.amd) {\n",
       "      requirejs.config({paths});\n",
       "      require([\"vega-embed\"], displayChart, err => showError(`Error loading script: ${err.message}`));\n",
       "    } else {\n",
       "      maybeLoadScript(\"vega\", \"5\")\n",
       "        .then(() => maybeLoadScript(\"vega-lite\", \"4.17.0\"))\n",
       "        .then(() => maybeLoadScript(\"vega-embed\", \"6\"))\n",
       "        .catch(showError)\n",
       "        .then(() => displayChart(vegaEmbed));\n",
       "    }\n",
       "  })({\"config\": {\"view\": {\"continuousWidth\": 400, \"continuousHeight\": 300}}, \"layer\": [{\"mark\": \"bar\", \"encoding\": {\"x\": {\"axis\": {\"format\": \"%\"}, \"field\": \"percent\", \"title\": \"Response percerntage (%)\", \"type\": \"quantitative\"}, \"y\": {\"field\": \"mp_team_cat\", \"sort\": \"x\", \"title\": \"\", \"type\": \"nominal\"}}, \"height\": 150, \"title\": \"No: of team members involved in current projects, (n=6)\", \"transform\": [{\"joinaggregate\": [{\"op\": \"count\", \"as\": \"total\"}], \"groupby\": [\"mp_team_cat\"]}, {\"calculate\": \"(datum.total / 6)\", \"as\": \"percent\"}], \"width\": 400}, {\"mark\": {\"type\": \"text\", \"align\": \"right\"}, \"encoding\": {\"text\": {\"field\": \"percent\", \"format\": \".1%\", \"type\": \"quantitative\"}, \"x\": {\"field\": \"percent\", \"type\": \"quantitative\"}, \"y\": {\"field\": \"mp_team_cat\", \"sort\": \"x\", \"type\": \"nominal\"}}, \"height\": 150, \"title\": \"No: of team members involved in current projects, (n=6)\", \"transform\": [{\"joinaggregate\": [{\"op\": \"count\", \"as\": \"total\"}], \"groupby\": [\"mp_team_cat\"]}, {\"calculate\": \"(datum.total / 6)\", \"as\": \"percent\"}], \"width\": 400}], \"data\": {\"name\": \"data-eb7a268133d6089ac931482acd5f3cac\"}, \"$schema\": \"https://vega.github.io/schema/vega-lite/v4.17.0.json\", \"datasets\": {\"data-eb7a268133d6089ac931482acd5f3cac\": [{\"ID\": 1, \"Email\": \"anonymous\", \"Name\": null, \"attendee_roles\": \"Project Manager;Subject Matter Expert (SME);\", \"previous_attendenance\": \"Yes I have attended Project Management Training and earned 35 PDUs earlier. \", \"work_project_types\": \"Multiple Projects\", \"desc_mp\": \"I have been involved in various Projects and I have to be agile in doing the Project Management.\", \"proj_descp\": \"Migration of CRM. In this Project, we are trying to migrate an old Access CRM to a new CRM-Which is more sophisticated and easy to use.\", \"team_num\": \"5\", \"team_strength\": \"Strategic, Analytical and Collaborative\", \"proj_challenges\": \"Maintaining Project on Track with respect to resources, timelines and Budget. Mitigating Risks. Adapting agile mindset in the team\", \"mp_team_cat\": \"below 5\", \"prev_att_cat\": \"Yes\"}, {\"ID\": 2, \"Email\": \"anonymous\", \"Name\": null, \"attendee_roles\": \"Project Manager;\", \"previous_attendenance\": \"No\", \"work_project_types\": \"Multiple Projects\", \"desc_mp\": \"I manage multiple program schedules and teams, lead group projects with several committees, coordinate daily volunteers, direct and coordinate administrative teams and am the primary driving force for our annual action plans/strategic plan. I have one staff member and everyone else are volunteers.\", \"proj_descp\": \"Phase 2 Renovations. Our organization is preparing for the final phase of renovations to our new facility and my role will involve coordination of facility oversight committees, contractors, grant and fundraising teams, consultants and volunteers while working alongside Island Health and other regulatory bodies. \", \"team_num\": \"45\", \"team_strength\": \"Commitment to the project and a unified goal, expertise in various related fields.\", \"proj_challenges\": \"Reduced efficiency and timeline drag due from under-structured or unwritten input and approval processes. Chronic games of 'telephone' i.e. the same information being shared with different individuals over and over again with details being lost along the way.\\nProject Management availability/overload -I will wind up playing the central role in this project, but I am also expected to keep operations and all other smaller projects moving forward. \", \"mp_team_cat\": \"above 20\", \"prev_att_cat\": \"No\"}, {\"ID\": 3, \"Email\": \"anonymous\", \"Name\": null, \"attendee_roles\": \"Not sure;non profit doing projects? ;\", \"previous_attendenance\": \"Nope! \", \"work_project_types\": \"Multiple Projects\", \"desc_mp\": \"Multiple community based projects (event planning, community projects (placemaking), long term and short term projects) \", \"proj_descp\": \"We are currently doing a community wide \\\"Needs Assessment\\\" with a UVic researcher. This needs assessment will then be carried into a longer term community wide visioning process in Fall 2022. This project will include community engagement, another partnership with UVic, collaboration with the City, and reporting out to community and grant funders. \", \"team_num\": \"5-10\", \"team_strength\": \"Not sure if TEAM is an acronym for something here? \\nBut strengths are - a motivated, involved, and ambitious community, we have lots of pre-existing research to build on.  \", \"proj_challenges\": \"- taking the ideas and translating them into tangible actions/requests. \\n- Capacity issues (I'm the only full time staff, everyone else is volunteer / very limited hours contractor) \\n- reluctant partners (the City of Victoria) in collaborating on potential actions/requests/community vision \", \"mp_team_cat\": \"6-10\", \"prev_att_cat\": \"No\"}, {\"ID\": 4, \"Email\": \"anonymous\", \"Name\": null, \"attendee_roles\": \"Project Manager;\", \"previous_attendenance\": \"I had some training during my master's degree course \", \"work_project_types\": \"Multiple Projects\", \"desc_mp\": \"Personal & professional \", \"proj_descp\": \"I am looking after Immunization Uptake Project with MOSAIC \", \"team_num\": \"3\", \"team_strength\": \"commitment \", \"proj_challenges\": \"Working with multiple stakeholders & communities \", \"mp_team_cat\": \"below 5\", \"prev_att_cat\": \"Yes\"}, {\"ID\": 5, \"Email\": \"anonymous\", \"Name\": null, \"attendee_roles\": \"Project Team Member;\", \"previous_attendenance\": \"No\\n\", \"work_project_types\": \"Multiple Projects\", \"desc_mp\": \"Funded/fund-raising/awareness events and year long projects.\", \"proj_descp\": \"Funded/fund-raising/awareness events and year long projects.\", \"team_num\": \"2-4\", \"team_strength\": \"Vision and intend.\", \"proj_challenges\": \"Understanding communication styles.\", \"mp_team_cat\": \"below 5\", \"prev_att_cat\": \"No\"}, {\"ID\": 6, \"Email\": \"anonymous\", \"Name\": null, \"attendee_roles\": \"Project Manager;\", \"previous_attendenance\": \"Yes I used to participate as a Pmi member before \", \"work_project_types\": \"Multiple Projects\", \"desc_mp\": \"N. A\", \"proj_descp\": \"I would love to participate as a trainer volunteer  \", \"team_num\": \"N.A.\", \"team_strength\": \"N.A.\", \"proj_challenges\": \"Wrong comunication \\n\", \"mp_team_cat\": \"NA\", \"prev_att_cat\": \"Yes\"}]}}, {\"mode\": \"vega-lite\"});\n",
       "</script>"
      ],
      "text/plain": [
       "alt.LayerChart(...)"
      ]
     },
     "execution_count": 27,
     "metadata": {},
     "output_type": "execute_result"
    }
   ],
   "source": [
    "bar = alt.Chart(pre_df, title=\"No: of team members involved in current projects, (n=6)\"\n",
    "               ).transform_joinaggregate(\n",
    "    total='count()',\n",
    "    groupby=['mp_team_cat']\n",
    ").transform_calculate(\n",
    "    percent=alt.datum.total/6\n",
    ").mark_bar().encode(\n",
    "    x= alt.X('percent:Q', title = \"Response percerntage (%)\", axis=alt.Axis(format='%')),\n",
    "    y=alt.Y('mp_team_cat', sort='x', title=\"\")\n",
    "    ).properties(\n",
    "    width=400,\n",
    "    height=150\n",
    "    )\n",
    "\n",
    "text = alt.Chart(pre_df, title=\"No: of team members involved in current projects, (n=6)\"\n",
    "               ).transform_joinaggregate(\n",
    "    total='count()',\n",
    "    groupby=['mp_team_cat']\n",
    ").transform_calculate(\n",
    "    percent=alt.datum.total/6\n",
    ").mark_text(\n",
    "        align='right',\n",
    "    ).encode(\n",
    "        y = alt.Y('mp_team_cat', sort = 'x'),\n",
    "        x = alt.X('percent:Q'),\n",
    "        text=alt.Text('percent:Q',format='.1%')\n",
    ").properties(\n",
    "    width=400,\n",
    "    height=150\n",
    "    )\n",
    "\n",
    "q7_plot = alt.layer(bar, text, data=pre_df)\n",
    "\n",
    "# Show the plot|\n",
    "q7_plot"
   ]
  },
  {
   "cell_type": "markdown",
   "id": "428c2534-ce63-4d8d-9caf-7eb6a7ce25e2",
   "metadata": {},
   "source": [
    "### NLP processing of open-text questions"
   ]
  },
  {
   "cell_type": "code",
   "execution_count": 113,
   "id": "35916a4b-9453-42a8-8df4-6252a4d6690d",
   "metadata": {},
   "outputs": [
    {
     "data": {
      "image/png": "[encoded data removed]",
      "text/plain": [
       "<PIL.Image.Image image mode=RGB size=800x400>"
      ]
     },
     "execution_count": 113,
     "metadata": {},
     "output_type": "execute_result"
    }
   ],
   "source": [
    "# EDA Initial word cloud \n",
    "from wordcloud import WordCloud\n",
    "words = \" \".join(pre_df[\"proj_descp\"].tolist())\n",
    "wordcloud = WordCloud(width=800, height=400, random_state=591)\n",
    "wc = wordcloud.generate(words).to_image()\n",
    "wc"
   ]
  },
  {
   "cell_type": "code",
   "execution_count": 92,
   "id": "83e3f2d8-0b68-4ade-b4ab-690b724fd7ed",
   "metadata": {},
   "outputs": [],
   "source": [
    "import spacy\n",
    "# !python -m spacy download en_core_web_sm\n",
    "nlp = spacy.load(\"en_core_web_sm\")"
   ]
  },
  {
   "cell_type": "code",
   "execution_count": 93,
   "id": "922d6ee7-9090-4ea0-9eea-174d7bdfe539",
   "metadata": {},
   "outputs": [],
   "source": [
    "nlp.max_length = 1850000"
   ]
  },
  {
   "cell_type": "code",
   "execution_count": 94,
   "id": "10e1d2c9-50a8-485a-b38b-db6812f6a7b4",
   "metadata": {},
   "outputs": [
    {
     "data": {
      "text/plain": [
       "array(['Migration of CRM. In this Project, we are trying to migrate an old Access CRM to a new CRM-Which is more sophisticated and easy to use.',\n",
       "       'Phase 2 Renovations. Our organization is preparing for the final phase of renovations to our new facility and my role will involve coordination of facility oversight committees, contractors, grant and fundraising teams, consultants and volunteers while working alongside Island Health and other regulatory bodies. ',\n",
       "       'We are currently doing a community wide \"Needs Assessment\" with a UVic researcher. This needs assessment will then be carried into a longer term community wide visioning process in Fall 2022. This project will include community engagement, another partnership with UVic, collaboration with the City, and reporting out to community and grant funders. ',\n",
       "       'I am looking after Immunization Uptake Project with MOSAIC ',\n",
       "       'Funded/fund-raising/awareness events and year long projects.',\n",
       "       'I would love to participate as a trainer volunteer  '],\n",
       "      dtype=object)"
      ]
     },
     "execution_count": 94,
     "metadata": {},
     "output_type": "execute_result"
    }
   ],
   "source": [
    "pre_df.proj_descp.unique()"
   ]
  },
  {
   "cell_type": "code",
   "execution_count": 128,
   "id": "9ad21f38-68cf-4283-96d7-a9d2e147ceba",
   "metadata": {},
   "outputs": [],
   "source": [
    "proj_descp_text = pre_df.proj_descp.str.cat(sep = ' ')"
   ]
  },
  {
   "cell_type": "code",
   "execution_count": 129,
   "id": "00c5dc5e-d6ff-458b-8e55-e36e36c8eaea",
   "metadata": {},
   "outputs": [
    {
     "data": {
      "text/plain": [
       "'Migration of CRM. In this Project, we are trying to migrate an old Access CRM to a new CRM-Which is more sophisticated and easy to use. Phase 2 Renovations. Our organization is preparing for the final phase of renovations to our new facility and my role will involve coordination of facility oversight committees, contractors, grant and fundraising teams, consultants and volunteers while working alongside Island Health and other regulatory bodies.  We are currently doing a community wide \"Needs Assessment\" with a UVic researcher. This needs assessment will then be carried into a longer term community wide visioning process in Fall 2022. This project will include community engagement, another partnership with UVic, collaboration with the City, and reporting out to community and grant funders.  I am looking after Immunization Uptake Project with MOSAIC  Funded/fund-raising/awareness events and year long projects. I would love to participate as a trainer volunteer  '"
      ]
     },
     "execution_count": 129,
     "metadata": {},
     "output_type": "execute_result"
    }
   ],
   "source": [
    "proj_descp_text"
   ]
  },
  {
   "cell_type": "code",
   "execution_count": 97,
   "id": "a9993db8-482f-45ec-b435-7e4709b64b7f",
   "metadata": {},
   "outputs": [],
   "source": [
    "doc = nlp(proj_descp_text, disable = ['ner'])"
   ]
  },
  {
   "cell_type": "code",
   "execution_count": 98,
   "id": "fd7dca87-26dd-4b4f-9157-75ba57648996",
   "metadata": {},
   "outputs": [
    {
     "data": {
      "text/plain": [
       "[(' ', 4),\n",
       " ('community', 4),\n",
       " ('CRM', 3),\n",
       " ('Project', 2),\n",
       " ('new', 2),\n",
       " ('phase', 2),\n",
       " ('renovation', 2),\n",
       " ('facility', 2),\n",
       " ('grant', 2),\n",
       " ('volunteer', 2),\n",
       " ('wide', 2),\n",
       " ('need', 2),\n",
       " ('assessment', 2),\n",
       " ('long', 2),\n",
       " ('project', 2),\n",
       " ('Migration', 1),\n",
       " ('try', 1),\n",
       " ('migrate', 1),\n",
       " ('old', 1),\n",
       " ('Access', 1)]"
      ]
     },
     "execution_count": 98,
     "metadata": {},
     "output_type": "execute_result"
    }
   ],
   "source": [
    "from collections import Counter\n",
    "words = [token.lemma_ for token in doc if not token.is_stop and not token.is_punct] \n",
    "\n",
    "word_freq = Counter(words) \n",
    "word_freq.most_common(20)"
   ]
  },
  {
   "cell_type": "code",
   "execution_count": 104,
   "id": "5b7d8007-f52a-4892-84f5-432f11dfb2d0",
   "metadata": {},
   "outputs": [
    {
     "data": {
      "text/plain": [
       "[('final phase', 1),\n",
       " ('new facility', 1),\n",
       " ('regulatory bodies', 1),\n",
       " ('uvic researcher', 1),\n",
       " ('longer term', 1),\n",
       " ('wide visioning', 1),\n",
       " ('long projects', 1)]"
      ]
     },
     "execution_count": 104,
     "metadata": {},
     "output_type": "execute_result"
    }
   ],
   "source": [
    "from spacy.matcher import Matcher \n",
    "matcher = Matcher(nlp.vocab) \n",
    "pattern = [{'POS':'ADJ'}, {'POS':'NOUN'}] \n",
    "matcher.add('ADJ_PHRASE', [pattern]) \n",
    "matches = matcher(doc, as_spans=True) \n",
    "phrases = [] \n",
    "for span in matches:\n",
    "    phrases.append(span.text.lower())\n",
    "    phrase_freq = Counter(phrases)\n",
    "phrase_freq.most_common(50)"
   ]
  },
  {
   "cell_type": "code",
   "execution_count": null,
   "id": "33cd955b-2d51-41df-89f0-46cf22939ed2",
   "metadata": {},
   "outputs": [],
   "source": []
  },
  {
   "cell_type": "markdown",
   "id": "d3015c07-fa7a-4a89-9472-252e15d78f05",
   "metadata": {},
   "source": [
    "### Question 8: What common and/or recurring issues and challenges do you encounter while being part of a project? (list and briefly describe TOP three if you can)"
   ]
  },
  {
   "cell_type": "code",
   "execution_count": 117,
   "id": "e9e27f48-79e6-4aec-ba1c-40dcc8069cf8",
   "metadata": {},
   "outputs": [
    {
     "data": {
      "image/png": "[encoded data removed]",
      "text/plain": [
       "<PIL.Image.Image image mode=RGB size=800x400>"
      ]
     },
     "execution_count": 117,
     "metadata": {},
     "output_type": "execute_result"
    }
   ],
   "source": [
    "words = \" \".join(pre_df[\"proj_challenges\"].tolist())\n",
    "wordcloud = WordCloud(width=800, height=400, random_state=591)\n",
    "wc = wordcloud.generate(words).to_image()\n",
    "wc"
   ]
  },
  {
   "cell_type": "code",
   "execution_count": 118,
   "id": "f7e512fb-586d-4182-b8b9-cddb8d885cf7",
   "metadata": {},
   "outputs": [
    {
     "data": {
      "text/plain": [
       "array(['Maintaining Project on Track with respect to resources, timelines and Budget. Mitigating Risks. Adapting agile mindset in the team',\n",
       "       \"Reduced efficiency and timeline drag due from under-structured or unwritten input and approval processes. Chronic games of 'telephone' i.e. the same information being shared with different individuals over and over again with details being lost along the way.\\nProject Management availability/overload -I will wind up playing the central role in this project, but I am also expected to keep operations and all other smaller projects moving forward. \",\n",
       "       \"- taking the ideas and translating them into tangible actions/requests. \\n- Capacity issues (I'm the only full time staff, everyone else is volunteer / very limited hours contractor) \\n- reluctant partners (the City of Victoria) in collaborating on potential actions/requests/community vision \",\n",
       "       'Working with multiple stakeholders & communities ',\n",
       "       'Understanding communication styles.', 'Wrong comunication \\n'],\n",
       "      dtype=object)"
      ]
     },
     "execution_count": 118,
     "metadata": {},
     "output_type": "execute_result"
    }
   ],
   "source": [
    "pre_df.proj_challenges.unique()"
   ]
  },
  {
   "cell_type": "code",
   "execution_count": 116,
   "id": "ed9361d0-b8a1-417f-a913-0b97972950de",
   "metadata": {},
   "outputs": [],
   "source": [
    "def preprocess_spacy(\n",
    "    text,\n",
    "    min_token_len=3,\n",
    "    irrelevant_pos=[\"ADV\", \"PRON\", \"CCONJ\", \"PUNCT\", \"PART\", \"DET\", \"ADP\", \"NUM\", \"SYM\"],\n",
    "):\n",
    "    \"\"\"\n",
    "    Given text, min_token_len, and irrelevant_pos carry out preprocessing of the text\n",
    "    and return a preprocessed string.\n",
    "\n",
    "    Parameters\n",
    "    -------------\n",
    "    text : (spaCy doc object)\n",
    "        the spacy doc object of the text\n",
    "    min_token_len : (int)\n",
    "        min_token_length required\n",
    "    irrelevant_pos : (list)\n",
    "        a list of irrelevant pos tags\n",
    "\n",
    "    Returns\n",
    "    -------------\n",
    "    (str) the preprocessed text\n",
    "    \"\"\"\n",
    "    \n",
    "    clean_text = []\n",
    "    \n",
    "    for token in text:\n",
    "        if (\n",
    "            token.is_stop == False # Check if it's not a stopword\n",
    "            and len(token) > min_token_len  # Check if the word meets minimum threshold\n",
    "            and token.pos_ not in irrelevant_pos # Check if the POS is in the acceptable POS tags\n",
    "        ):  \n",
    "            lemma = token.lemma_  \n",
    "            clean_text.append(lemma.lower()) \n",
    "            \n",
    "    return \" \".join(clean_text)"
   ]
  },
  {
   "cell_type": "code",
   "execution_count": 119,
   "id": "9d51024c-c352-4318-8f78-2a50e5a80c03",
   "metadata": {},
   "outputs": [],
   "source": [
    "import re\n",
    "def preprocess(text):\n",
    "    # Replace a sequence of whitespaces by a single whitespace\n",
    "    text = re.sub(r\"\\s+\", \" \", text)\n",
    "    \n",
    "    # Remove other strange characters\n",
    "    text = re.sub(r\"\"\"[\\n\\r]+\"\"\", \"\", text)\n",
    "    \n",
    "    # Remove other strange characters\n",
    "    text = re.sub(r\"\"\"[\\*\\~]+\"\"\", \"\", text)\n",
    "\n",
    "    # Replace slashes with spaces\n",
    "    text = re.sub(r\"\"\"[\\/]+\"\"\", \" \", text)\n",
    "\n",
    "    return text"
   ]
  },
  {
   "cell_type": "code",
   "execution_count": 121,
   "id": "07e9ba22-80a8-4b99-9731-0aaebaab49a5",
   "metadata": {},
   "outputs": [],
   "source": [
    "q8_df = pd.DataFrame()\n",
    "q8_df = pre_df[[\"proj_challenges\"]]"
   ]
  },
  {
   "cell_type": "code",
   "execution_count": 123,
   "id": "c9740f5c-7fb7-4c4f-8a52-90f91cb8daaf",
   "metadata": {},
   "outputs": [
    {
     "name": "stderr",
     "output_type": "stream",
     "text": [
      "/var/folders/lx/k5799j011wz6q8hpjbh635sc0000gn/T/ipykernel_92845/1531616629.py:1: SettingWithCopyWarning: \n",
      "A value is trying to be set on a copy of a slice from a DataFrame.\n",
      "Try using .loc[row_indexer,col_indexer] = value instead\n",
      "\n",
      "See the caveats in the documentation: https://pandas.pydata.org/pandas-docs/stable/user_guide/indexing.html#returning-a-view-versus-a-copy\n",
      "  q8_df[\"pp_text\"] = q8_df[\"proj_challenges\"].apply(preprocess)\n"
     ]
    },
    {
     "data": {
      "text/html": [
       "<div>\n",
       "<style scoped>\n",
       "    .dataframe tbody tr th:only-of-type {\n",
       "        vertical-align: middle;\n",
       "    }\n",
       "\n",
       "    .dataframe tbody tr th {\n",
       "        vertical-align: top;\n",
       "    }\n",
       "\n",
       "    .dataframe thead th {\n",
       "        text-align: right;\n",
       "    }\n",
       "</style>\n",
       "<table border=\"1\" class=\"dataframe\">\n",
       "  <thead>\n",
       "    <tr style=\"text-align: right;\">\n",
       "      <th></th>\n",
       "      <th>proj_challenges</th>\n",
       "      <th>pp_text</th>\n",
       "    </tr>\n",
       "  </thead>\n",
       "  <tbody>\n",
       "    <tr>\n",
       "      <th>0</th>\n",
       "      <td>Maintaining Project on Track with respect to r...</td>\n",
       "      <td>Maintaining Project on Track with respect to r...</td>\n",
       "    </tr>\n",
       "    <tr>\n",
       "      <th>1</th>\n",
       "      <td>Reduced efficiency and timeline drag due from ...</td>\n",
       "      <td>Reduced efficiency and timeline drag due from ...</td>\n",
       "    </tr>\n",
       "    <tr>\n",
       "      <th>2</th>\n",
       "      <td>- taking the ideas and translating them into t...</td>\n",
       "      <td>- taking the ideas and translating them into t...</td>\n",
       "    </tr>\n",
       "    <tr>\n",
       "      <th>3</th>\n",
       "      <td>Working with multiple stakeholders &amp; communities</td>\n",
       "      <td>Working with multiple stakeholders &amp; communities</td>\n",
       "    </tr>\n",
       "    <tr>\n",
       "      <th>4</th>\n",
       "      <td>Understanding communication styles.</td>\n",
       "      <td>Understanding communication styles.</td>\n",
       "    </tr>\n",
       "    <tr>\n",
       "      <th>5</th>\n",
       "      <td>Wrong comunication \\n</td>\n",
       "      <td>Wrong comunication</td>\n",
       "    </tr>\n",
       "  </tbody>\n",
       "</table>\n",
       "</div>"
      ],
      "text/plain": [
       "                                     proj_challenges  \\\n",
       "0  Maintaining Project on Track with respect to r...   \n",
       "1  Reduced efficiency and timeline drag due from ...   \n",
       "2  - taking the ideas and translating them into t...   \n",
       "3  Working with multiple stakeholders & communities    \n",
       "4                Understanding communication styles.   \n",
       "5                              Wrong comunication \\n   \n",
       "\n",
       "                                             pp_text  \n",
       "0  Maintaining Project on Track with respect to r...  \n",
       "1  Reduced efficiency and timeline drag due from ...  \n",
       "2  - taking the ideas and translating them into t...  \n",
       "3  Working with multiple stakeholders & communities   \n",
       "4                Understanding communication styles.  \n",
       "5                                Wrong comunication   "
      ]
     },
     "execution_count": 123,
     "metadata": {},
     "output_type": "execute_result"
    }
   ],
   "source": [
    "q8_df[\"pp_text\"] = q8_df[\"proj_challenges\"].apply(preprocess)\n",
    "q8_df.dropna()"
   ]
  },
  {
   "cell_type": "code",
   "execution_count": 124,
   "id": "5b09a459-65b3-4e5f-853a-e22ca8addf33",
   "metadata": {},
   "outputs": [
    {
     "name": "stderr",
     "output_type": "stream",
     "text": [
      "/var/folders/lx/k5799j011wz6q8hpjbh635sc0000gn/T/ipykernel_92845/1436732373.py:1: SettingWithCopyWarning: \n",
      "A value is trying to be set on a copy of a slice from a DataFrame.\n",
      "Try using .loc[row_indexer,col_indexer] = value instead\n",
      "\n",
      "See the caveats in the documentation: https://pandas.pydata.org/pandas-docs/stable/user_guide/indexing.html#returning-a-view-versus-a-copy\n",
      "  q8_df[\"pp_text\"] = [\n"
     ]
    }
   ],
   "source": [
    "q8_df[\"pp_text\"] = [\n",
    "    preprocess_spacy(spacy_text) for spacy_text in nlp.pipe(q8_df[\"pp_text\"])\n",
    "]"
   ]
  },
  {
   "cell_type": "code",
   "execution_count": 125,
   "id": "8105a6ec-dc68-423b-9aa5-b37b8a0b90c2",
   "metadata": {},
   "outputs": [
    {
     "data": {
      "text/html": [
       "<div>\n",
       "<style scoped>\n",
       "    .dataframe tbody tr th:only-of-type {\n",
       "        vertical-align: middle;\n",
       "    }\n",
       "\n",
       "    .dataframe tbody tr th {\n",
       "        vertical-align: top;\n",
       "    }\n",
       "\n",
       "    .dataframe thead th {\n",
       "        text-align: right;\n",
       "    }\n",
       "</style>\n",
       "<table border=\"1\" class=\"dataframe\">\n",
       "  <thead>\n",
       "    <tr style=\"text-align: right;\">\n",
       "      <th></th>\n",
       "      <th>proj_challenges</th>\n",
       "      <th>pp_text</th>\n",
       "    </tr>\n",
       "  </thead>\n",
       "  <tbody>\n",
       "    <tr>\n",
       "      <th>0</th>\n",
       "      <td>Maintaining Project on Track with respect to r...</td>\n",
       "      <td>maintain project track respect resource timeli...</td>\n",
       "    </tr>\n",
       "    <tr>\n",
       "      <th>1</th>\n",
       "      <td>Reduced efficiency and timeline drag due from ...</td>\n",
       "      <td>reduced efficiency timeline drag structured un...</td>\n",
       "    </tr>\n",
       "    <tr>\n",
       "      <th>2</th>\n",
       "      <td>- taking the ideas and translating them into t...</td>\n",
       "      <td>take idea translate tangible action request ca...</td>\n",
       "    </tr>\n",
       "    <tr>\n",
       "      <th>3</th>\n",
       "      <td>Working with multiple stakeholders &amp; communities</td>\n",
       "      <td>work multiple stakeholder community</td>\n",
       "    </tr>\n",
       "    <tr>\n",
       "      <th>4</th>\n",
       "      <td>Understanding communication styles.</td>\n",
       "      <td>understand communication style</td>\n",
       "    </tr>\n",
       "    <tr>\n",
       "      <th>5</th>\n",
       "      <td>Wrong comunication \\n</td>\n",
       "      <td>wrong comunication</td>\n",
       "    </tr>\n",
       "  </tbody>\n",
       "</table>\n",
       "</div>"
      ],
      "text/plain": [
       "                                     proj_challenges  \\\n",
       "0  Maintaining Project on Track with respect to r...   \n",
       "1  Reduced efficiency and timeline drag due from ...   \n",
       "2  - taking the ideas and translating them into t...   \n",
       "3  Working with multiple stakeholders & communities    \n",
       "4                Understanding communication styles.   \n",
       "5                              Wrong comunication \\n   \n",
       "\n",
       "                                             pp_text  \n",
       "0  maintain project track respect resource timeli...  \n",
       "1  reduced efficiency timeline drag structured un...  \n",
       "2  take idea translate tangible action request ca...  \n",
       "3                work multiple stakeholder community  \n",
       "4                     understand communication style  \n",
       "5                                 wrong comunication  "
      ]
     },
     "execution_count": 125,
     "metadata": {},
     "output_type": "execute_result"
    }
   ],
   "source": [
    "q8_df"
   ]
  },
  {
   "cell_type": "code",
   "execution_count": 126,
   "id": "4e1e7cf4-9a57-414a-85f0-fbc6edbc17d2",
   "metadata": {},
   "outputs": [
    {
     "data": {
      "text/plain": [
       "array(['maintain project track respect resource timeline budget mitigating risks adapt agile mindset team',\n",
       "       'reduced efficiency timeline drag structured unwritten input approval process chronic game telephone i.e. information share different individual detail lose project management availability overload wind play central role project expect operation small project move',\n",
       "       'take idea translate tangible action request capacity issue time staff volunteer limited hour contractor reluctant partner city victoria collaborate potential action request community vision',\n",
       "       'work multiple stakeholder community',\n",
       "       'understand communication style', 'wrong comunication'],\n",
       "      dtype=object)"
      ]
     },
     "execution_count": 126,
     "metadata": {},
     "output_type": "execute_result"
    }
   ],
   "source": [
    "q8_df.pp_text.unique()"
   ]
  },
  {
   "cell_type": "code",
   "execution_count": 130,
   "id": "ee034467-8e51-452c-8ef1-81f92a0c0641",
   "metadata": {},
   "outputs": [],
   "source": [
    "proj_challenges_text = q8_df.pp_text.str.cat(sep = ' ')"
   ]
  },
  {
   "cell_type": "code",
   "execution_count": 131,
   "id": "f5ae839b-4b6f-4629-91b1-0e47c29a445f",
   "metadata": {},
   "outputs": [],
   "source": [
    "doc = nlp(proj_challenges_text, disable = ['ner'])"
   ]
  },
  {
   "cell_type": "code",
   "execution_count": 132,
   "id": "39d74008-e5ad-4975-bf4b-cb6ce28827e4",
   "metadata": {},
   "outputs": [
    {
     "data": {
      "text/plain": [
       "[('project', 4),\n",
       " ('timeline', 2),\n",
       " ('action', 2),\n",
       " ('request', 2),\n",
       " ('community', 2),\n",
       " ('maintain', 1),\n",
       " ('track', 1),\n",
       " ('respect', 1),\n",
       " ('resource', 1),\n",
       " ('budget', 1),\n",
       " ('mitigate', 1),\n",
       " ('risk', 1),\n",
       " ('adapt', 1),\n",
       " ('agile', 1),\n",
       " ('mindset', 1),\n",
       " ('team', 1),\n",
       " ('reduce', 1),\n",
       " ('efficiency', 1),\n",
       " ('drag', 1),\n",
       " ('structure', 1)]"
      ]
     },
     "execution_count": 132,
     "metadata": {},
     "output_type": "execute_result"
    }
   ],
   "source": [
    "from collections import Counter\n",
    "words = [token.lemma_ for token in doc if not token.is_stop and not token.is_punct] \n",
    "\n",
    "word_freq = Counter(words) \n",
    "word_freq.most_common(20)"
   ]
  },
  {
   "cell_type": "code",
   "execution_count": 127,
   "id": "642c7dd6-7d93-4068-87be-d8949f902853",
   "metadata": {},
   "outputs": [],
   "source": [
    "### LDA topic modelling "
   ]
  },
  {
   "cell_type": "code",
   "execution_count": 134,
   "id": "903130b5-fefb-42ec-9d20-73e2f7222b8c",
   "metadata": {},
   "outputs": [],
   "source": [
    "import gensim\n",
    "import gensim.corpora as corpora\n",
    "from gensim.corpora import Dictionary\n",
    "from gensim.models import LdaModel"
   ]
  },
  {
   "cell_type": "code",
   "execution_count": 137,
   "id": "405bb16e-8e92-40c5-a264-bff01a28e6ae",
   "metadata": {},
   "outputs": [
    {
     "data": {
      "text/plain": [
       "72"
      ]
     },
     "execution_count": 137,
     "metadata": {},
     "output_type": "execute_result"
    }
   ],
   "source": [
    "# Create a vocabulary for the lda model and\n",
    "# convert our corpus into document-term matrix for Lda\n",
    "preprocessed_corpus = [doc.split() for doc in q8_df[\"pp_text\"].tolist()]\n",
    "dictionary = corpora.Dictionary(preprocessed_corpus)\n",
    "# Optional\n",
    "# dictionary.filter_extremes(no_below=3, no_above=0.3, keep_n=100000)\n",
    "len(dictionary)"
   ]
  },
  {
   "cell_type": "code",
   "execution_count": 138,
   "id": "765d7f3f-c89e-4c29-ba3f-c3bc2c3ae893",
   "metadata": {},
   "outputs": [
    {
     "data": {
      "text/html": [
       "<div>\n",
       "<style scoped>\n",
       "    .dataframe tbody tr th:only-of-type {\n",
       "        vertical-align: middle;\n",
       "    }\n",
       "\n",
       "    .dataframe tbody tr th {\n",
       "        vertical-align: top;\n",
       "    }\n",
       "\n",
       "    .dataframe thead th {\n",
       "        text-align: right;\n",
       "    }\n",
       "</style>\n",
       "<table border=\"1\" class=\"dataframe\">\n",
       "  <thead>\n",
       "    <tr style=\"text-align: right;\">\n",
       "      <th></th>\n",
       "      <th>word</th>\n",
       "      <th>frequency</th>\n",
       "    </tr>\n",
       "  </thead>\n",
       "  <tbody>\n",
       "    <tr>\n",
       "      <th>0</th>\n",
       "      <td>adapt</td>\n",
       "      <td>1</td>\n",
       "    </tr>\n",
       "    <tr>\n",
       "      <th>1</th>\n",
       "      <td>agile</td>\n",
       "      <td>1</td>\n",
       "    </tr>\n",
       "    <tr>\n",
       "      <th>2</th>\n",
       "      <td>budget</td>\n",
       "      <td>1</td>\n",
       "    </tr>\n",
       "    <tr>\n",
       "      <th>3</th>\n",
       "      <td>maintain</td>\n",
       "      <td>1</td>\n",
       "    </tr>\n",
       "    <tr>\n",
       "      <th>4</th>\n",
       "      <td>mindset</td>\n",
       "      <td>1</td>\n",
       "    </tr>\n",
       "    <tr>\n",
       "      <th>5</th>\n",
       "      <td>mitigating</td>\n",
       "      <td>1</td>\n",
       "    </tr>\n",
       "    <tr>\n",
       "      <th>6</th>\n",
       "      <td>project</td>\n",
       "      <td>1</td>\n",
       "    </tr>\n",
       "    <tr>\n",
       "      <th>7</th>\n",
       "      <td>resource</td>\n",
       "      <td>1</td>\n",
       "    </tr>\n",
       "    <tr>\n",
       "      <th>8</th>\n",
       "      <td>respect</td>\n",
       "      <td>1</td>\n",
       "    </tr>\n",
       "    <tr>\n",
       "      <th>9</th>\n",
       "      <td>risks</td>\n",
       "      <td>1</td>\n",
       "    </tr>\n",
       "    <tr>\n",
       "      <th>10</th>\n",
       "      <td>team</td>\n",
       "      <td>1</td>\n",
       "    </tr>\n",
       "    <tr>\n",
       "      <th>11</th>\n",
       "      <td>timeline</td>\n",
       "      <td>1</td>\n",
       "    </tr>\n",
       "    <tr>\n",
       "      <th>12</th>\n",
       "      <td>track</td>\n",
       "      <td>1</td>\n",
       "    </tr>\n",
       "  </tbody>\n",
       "</table>\n",
       "</div>"
      ],
      "text/plain": [
       "          word  frequency\n",
       "0        adapt          1\n",
       "1        agile          1\n",
       "2       budget          1\n",
       "3     maintain          1\n",
       "4      mindset          1\n",
       "5   mitigating          1\n",
       "6      project          1\n",
       "7     resource          1\n",
       "8      respect          1\n",
       "9        risks          1\n",
       "10        team          1\n",
       "11    timeline          1\n",
       "12       track          1"
      ]
     },
     "execution_count": 138,
     "metadata": {},
     "output_type": "execute_result"
    }
   ],
   "source": [
    "doc_term_matrix = [dictionary.doc2bow(doc) for doc in preprocessed_corpus]\n",
    "# print(doc_term_matrix[0])\n",
    "d = [(dictionary[idx], freq) for (idx, freq) in doc_term_matrix[0]]\n",
    "pd.DataFrame(d, columns=[\"word\", \"frequency\"])"
   ]
  },
  {
   "cell_type": "code",
   "execution_count": 139,
   "id": "8276a962-dd46-44e3-bbd2-5df10d6a7a78",
   "metadata": {},
   "outputs": [],
   "source": [
    "from gensim.models import CoherenceModel\n",
    "\n",
    "K = [3, 4, 5, 6, 7, 8]\n",
    "\n",
    "coherence_scores = []\n",
    "\n",
    "for num_topics in K:\n",
    "    lda = LdaModel(\n",
    "        corpus=doc_term_matrix,\n",
    "        id2word=dictionary,\n",
    "        num_topics=num_topics,\n",
    "        random_state=42,\n",
    "        passes=10,\n",
    "    )\n",
    "    coherence_model_lda = CoherenceModel(\n",
    "        model=lda, texts=preprocessed_corpus, dictionary=dictionary, coherence=\"c_v\"\n",
    "    )\n",
    "    coherence_scores.append(coherence_model_lda.get_coherence())"
   ]
  },
  {
   "cell_type": "code",
   "execution_count": 140,
   "id": "172dc918-3525-4b1d-81c9-755b7ae82b98",
   "metadata": {},
   "outputs": [
    {
     "data": {
      "text/html": [
       "<div>\n",
       "<style scoped>\n",
       "    .dataframe tbody tr th:only-of-type {\n",
       "        vertical-align: middle;\n",
       "    }\n",
       "\n",
       "    .dataframe tbody tr th {\n",
       "        vertical-align: top;\n",
       "    }\n",
       "\n",
       "    .dataframe thead th {\n",
       "        text-align: right;\n",
       "    }\n",
       "</style>\n",
       "<table border=\"1\" class=\"dataframe\">\n",
       "  <thead>\n",
       "    <tr style=\"text-align: right;\">\n",
       "      <th></th>\n",
       "      <th>Coherence score</th>\n",
       "    </tr>\n",
       "  </thead>\n",
       "  <tbody>\n",
       "    <tr>\n",
       "      <th>3</th>\n",
       "      <td>0.720157</td>\n",
       "    </tr>\n",
       "    <tr>\n",
       "      <th>4</th>\n",
       "      <td>0.778257</td>\n",
       "    </tr>\n",
       "    <tr>\n",
       "      <th>5</th>\n",
       "      <td>0.678161</td>\n",
       "    </tr>\n",
       "    <tr>\n",
       "      <th>6</th>\n",
       "      <td>0.625008</td>\n",
       "    </tr>\n",
       "    <tr>\n",
       "      <th>7</th>\n",
       "      <td>0.630604</td>\n",
       "    </tr>\n",
       "    <tr>\n",
       "      <th>8</th>\n",
       "      <td>0.643882</td>\n",
       "    </tr>\n",
       "  </tbody>\n",
       "</table>\n",
       "</div>"
      ],
      "text/plain": [
       "   Coherence score\n",
       "3         0.720157\n",
       "4         0.778257\n",
       "5         0.678161\n",
       "6         0.625008\n",
       "7         0.630604\n",
       "8         0.643882"
      ]
     },
     "execution_count": 140,
     "metadata": {},
     "output_type": "execute_result"
    }
   ],
   "source": [
    "coherence_df = pd.DataFrame(coherence_scores, index=K, columns=[\"Coherence score\"])\n",
    "coherence_df"
   ]
  },
  {
   "cell_type": "code",
   "execution_count": 142,
   "id": "a36d0160-e5e7-4432-9ed3-1da5fc202cb4",
   "metadata": {},
   "outputs": [
    {
     "data": {
      "text/html": [
       "<div>\n",
       "<style scoped>\n",
       "    .dataframe tbody tr th:only-of-type {\n",
       "        vertical-align: middle;\n",
       "    }\n",
       "\n",
       "    .dataframe tbody tr th {\n",
       "        vertical-align: top;\n",
       "    }\n",
       "\n",
       "    .dataframe thead th {\n",
       "        text-align: right;\n",
       "    }\n",
       "</style>\n",
       "<table border=\"1\" class=\"dataframe\">\n",
       "  <thead>\n",
       "    <tr style=\"text-align: right;\">\n",
       "      <th></th>\n",
       "      <th>Topic id</th>\n",
       "      <th>Topic words</th>\n",
       "    </tr>\n",
       "  </thead>\n",
       "  <tbody>\n",
       "    <tr>\n",
       "      <th>0</th>\n",
       "      <td>0</td>\n",
       "      <td>0.059*\"understand\" + 0.059*\"style\" + 0.059*\"co...</td>\n",
       "    </tr>\n",
       "    <tr>\n",
       "      <th>1</th>\n",
       "      <td>1</td>\n",
       "      <td>0.054*\"request\" + 0.054*\"action\" + 0.030*\"comm...</td>\n",
       "    </tr>\n",
       "    <tr>\n",
       "      <th>2</th>\n",
       "      <td>2</td>\n",
       "      <td>0.038*\"comunication\" + 0.038*\"wrong\" + 0.038*\"...</td>\n",
       "    </tr>\n",
       "    <tr>\n",
       "      <th>3</th>\n",
       "      <td>3</td>\n",
       "      <td>0.059*\"project\" + 0.023*\"timeline\" + 0.023*\"dr...</td>\n",
       "    </tr>\n",
       "  </tbody>\n",
       "</table>\n",
       "</div>"
      ],
      "text/plain": [
       "   Topic id                                        Topic words\n",
       "0         0  0.059*\"understand\" + 0.059*\"style\" + 0.059*\"co...\n",
       "1         1  0.054*\"request\" + 0.054*\"action\" + 0.030*\"comm...\n",
       "2         2  0.038*\"comunication\" + 0.038*\"wrong\" + 0.038*\"...\n",
       "3         3  0.059*\"project\" + 0.023*\"timeline\" + 0.023*\"dr..."
      ]
     },
     "execution_count": 142,
     "metadata": {},
     "output_type": "execute_result"
    }
   ],
   "source": [
    "lda4 = LdaModel(\n",
    "    corpus=doc_term_matrix,\n",
    "    id2word=dictionary,\n",
    "    num_topics=4,\n",
    "    random_state=42,\n",
    "    passes=10,\n",
    ")\n",
    "pd.DataFrame(lda4.print_topics(), columns=[\"Topic id\", \"Topic words\"])"
   ]
  },
  {
   "cell_type": "code",
   "execution_count": 143,
   "id": "a65df04f-8533-4d74-b4ca-c695828db5f5",
   "metadata": {},
   "outputs": [
    {
     "data": {
      "text/plain": [
       "[(0,\n",
       "  '0.059*\"understand\" + 0.059*\"style\" + 0.059*\"communication\" + 0.012*\"request\" + 0.012*\"action\" + 0.012*\"collaborate\" + 0.012*\"volunteer\" + 0.012*\"community\" + 0.012*\"city\" + 0.012*\"limited\"'),\n",
       " (1,\n",
       "  '0.054*\"request\" + 0.054*\"action\" + 0.030*\"community\" + 0.030*\"take\" + 0.030*\"vision\" + 0.030*\"staff\" + 0.030*\"tangible\" + 0.030*\"potential\" + 0.030*\"translate\" + 0.030*\"issue\"'),\n",
       " (2,\n",
       "  '0.038*\"comunication\" + 0.038*\"wrong\" + 0.038*\"respect\" + 0.038*\"resource\" + 0.038*\"risks\" + 0.038*\"track\" + 0.038*\"team\" + 0.038*\"budget\" + 0.038*\"maintain\" + 0.038*\"mitigating\"'),\n",
       " (3,\n",
       "  '0.059*\"project\" + 0.023*\"timeline\" + 0.023*\"drag\" + 0.023*\"central\" + 0.023*\"play\" + 0.023*\"operation\" + 0.023*\"expect\" + 0.023*\"process\" + 0.023*\"unwritten\" + 0.023*\"share\"')]"
      ]
     },
     "execution_count": 143,
     "metadata": {},
     "output_type": "execute_result"
    }
   ],
   "source": [
    "lda4.print_topics()"
   ]
  },
  {
   "cell_type": "code",
   "execution_count": 144,
   "id": "7dfa7559-5dba-4b64-a036-71e7e1f1b35c",
   "metadata": {},
   "outputs": [],
   "source": [
    "### creating bi-grams"
   ]
  },
  {
   "cell_type": "code",
   "execution_count": 146,
   "id": "e41f8a77-9757-48ce-aa5c-0ed38f86e46a",
   "metadata": {},
   "outputs": [],
   "source": [
    "import nltk\n",
    "from nltk import bigrams\n",
    "import networkx as nx"
   ]
  },
  {
   "cell_type": "code",
   "execution_count": 152,
   "id": "1cc347c9-0722-4d05-a8ab-0debc1bf945c",
   "metadata": {},
   "outputs": [
    {
     "data": {
      "text/plain": [
       "[(maintain, project),\n",
       " (project, track),\n",
       " (track, respect),\n",
       " (respect, resource),\n",
       " (resource, timeline),\n",
       " (timeline, budget),\n",
       " (budget, mitigating),\n",
       " (mitigating, risks),\n",
       " (risks, adapt),\n",
       " (adapt, agile),\n",
       " (agile, mindset),\n",
       " (mindset, team)]"
      ]
     },
     "execution_count": 152,
     "metadata": {},
     "output_type": "execute_result"
    }
   ],
   "source": [
    "# Create list of lists containing bigrams in tweets\n",
    "terms_bigram = [list(bigrams(text)) for text in nlp.pipe(q8_df['pp_text'])]\n",
    "\n",
    "# View bigrams for the first tweet\n",
    "terms_bigram[0]"
   ]
  },
  {
   "cell_type": "code",
   "execution_count": 156,
   "id": "28b94b77-dea3-441f-ae67-0b30e818309d",
   "metadata": {},
   "outputs": [
    {
     "data": {
      "text/plain": [
       "[((maintain, project), 1),\n",
       " ((project, track), 1),\n",
       " ((track, respect), 1),\n",
       " ((respect, resource), 1),\n",
       " ((resource, timeline), 1),\n",
       " ((timeline, budget), 1),\n",
       " ((budget, mitigating), 1),\n",
       " ((mitigating, risks), 1),\n",
       " ((risks, adapt), 1),\n",
       " ((adapt, agile), 1),\n",
       " ((agile, mindset), 1),\n",
       " ((mindset, team), 1),\n",
       " ((reduced, efficiency), 1),\n",
       " ((efficiency, timeline), 1),\n",
       " ((timeline, drag), 1),\n",
       " ((drag, structured), 1),\n",
       " ((structured, unwritten), 1),\n",
       " ((unwritten, input), 1),\n",
       " ((input, approval), 1),\n",
       " ((approval, process), 1)]"
      ]
     },
     "execution_count": 156,
     "metadata": {},
     "output_type": "execute_result"
    }
   ],
   "source": [
    "import itertools\n",
    "import collections\n",
    "# Flatten list of bigrams in clean tweets\n",
    "bigrams = list(itertools.chain(*terms_bigram))\n",
    "\n",
    "# Create counter of words in clean bigrams\n",
    "bigram_counts = collections.Counter(bigrams)\n",
    "\n",
    "bigram_counts.most_common(20)"
   ]
  },
  {
   "cell_type": "code",
   "execution_count": 157,
   "id": "e64cb002-cfc7-4cce-9823-6f3a0ff36867",
   "metadata": {},
   "outputs": [
    {
     "data": {
      "text/html": [
       "<div>\n",
       "<style scoped>\n",
       "    .dataframe tbody tr th:only-of-type {\n",
       "        vertical-align: middle;\n",
       "    }\n",
       "\n",
       "    .dataframe tbody tr th {\n",
       "        vertical-align: top;\n",
       "    }\n",
       "\n",
       "    .dataframe thead th {\n",
       "        text-align: right;\n",
       "    }\n",
       "</style>\n",
       "<table border=\"1\" class=\"dataframe\">\n",
       "  <thead>\n",
       "    <tr style=\"text-align: right;\">\n",
       "      <th></th>\n",
       "      <th>bigram</th>\n",
       "      <th>count</th>\n",
       "    </tr>\n",
       "  </thead>\n",
       "  <tbody>\n",
       "    <tr>\n",
       "      <th>0</th>\n",
       "      <td>(maintain, project)</td>\n",
       "      <td>1</td>\n",
       "    </tr>\n",
       "    <tr>\n",
       "      <th>1</th>\n",
       "      <td>(project, track)</td>\n",
       "      <td>1</td>\n",
       "    </tr>\n",
       "    <tr>\n",
       "      <th>2</th>\n",
       "      <td>(track, respect)</td>\n",
       "      <td>1</td>\n",
       "    </tr>\n",
       "    <tr>\n",
       "      <th>3</th>\n",
       "      <td>(respect, resource)</td>\n",
       "      <td>1</td>\n",
       "    </tr>\n",
       "    <tr>\n",
       "      <th>4</th>\n",
       "      <td>(resource, timeline)</td>\n",
       "      <td>1</td>\n",
       "    </tr>\n",
       "    <tr>\n",
       "      <th>5</th>\n",
       "      <td>(timeline, budget)</td>\n",
       "      <td>1</td>\n",
       "    </tr>\n",
       "    <tr>\n",
       "      <th>6</th>\n",
       "      <td>(budget, mitigating)</td>\n",
       "      <td>1</td>\n",
       "    </tr>\n",
       "    <tr>\n",
       "      <th>7</th>\n",
       "      <td>(mitigating, risks)</td>\n",
       "      <td>1</td>\n",
       "    </tr>\n",
       "    <tr>\n",
       "      <th>8</th>\n",
       "      <td>(risks, adapt)</td>\n",
       "      <td>1</td>\n",
       "    </tr>\n",
       "    <tr>\n",
       "      <th>9</th>\n",
       "      <td>(adapt, agile)</td>\n",
       "      <td>1</td>\n",
       "    </tr>\n",
       "    <tr>\n",
       "      <th>10</th>\n",
       "      <td>(agile, mindset)</td>\n",
       "      <td>1</td>\n",
       "    </tr>\n",
       "    <tr>\n",
       "      <th>11</th>\n",
       "      <td>(mindset, team)</td>\n",
       "      <td>1</td>\n",
       "    </tr>\n",
       "    <tr>\n",
       "      <th>12</th>\n",
       "      <td>(reduced, efficiency)</td>\n",
       "      <td>1</td>\n",
       "    </tr>\n",
       "    <tr>\n",
       "      <th>13</th>\n",
       "      <td>(efficiency, timeline)</td>\n",
       "      <td>1</td>\n",
       "    </tr>\n",
       "    <tr>\n",
       "      <th>14</th>\n",
       "      <td>(timeline, drag)</td>\n",
       "      <td>1</td>\n",
       "    </tr>\n",
       "    <tr>\n",
       "      <th>15</th>\n",
       "      <td>(drag, structured)</td>\n",
       "      <td>1</td>\n",
       "    </tr>\n",
       "    <tr>\n",
       "      <th>16</th>\n",
       "      <td>(structured, unwritten)</td>\n",
       "      <td>1</td>\n",
       "    </tr>\n",
       "    <tr>\n",
       "      <th>17</th>\n",
       "      <td>(unwritten, input)</td>\n",
       "      <td>1</td>\n",
       "    </tr>\n",
       "    <tr>\n",
       "      <th>18</th>\n",
       "      <td>(input, approval)</td>\n",
       "      <td>1</td>\n",
       "    </tr>\n",
       "    <tr>\n",
       "      <th>19</th>\n",
       "      <td>(approval, process)</td>\n",
       "      <td>1</td>\n",
       "    </tr>\n",
       "  </tbody>\n",
       "</table>\n",
       "</div>"
      ],
      "text/plain": [
       "                     bigram  count\n",
       "0       (maintain, project)      1\n",
       "1          (project, track)      1\n",
       "2          (track, respect)      1\n",
       "3       (respect, resource)      1\n",
       "4      (resource, timeline)      1\n",
       "5        (timeline, budget)      1\n",
       "6      (budget, mitigating)      1\n",
       "7       (mitigating, risks)      1\n",
       "8            (risks, adapt)      1\n",
       "9            (adapt, agile)      1\n",
       "10         (agile, mindset)      1\n",
       "11          (mindset, team)      1\n",
       "12    (reduced, efficiency)      1\n",
       "13   (efficiency, timeline)      1\n",
       "14         (timeline, drag)      1\n",
       "15       (drag, structured)      1\n",
       "16  (structured, unwritten)      1\n",
       "17       (unwritten, input)      1\n",
       "18        (input, approval)      1\n",
       "19      (approval, process)      1"
      ]
     },
     "execution_count": 157,
     "metadata": {},
     "output_type": "execute_result"
    }
   ],
   "source": [
    "bigram_df = pd.DataFrame(bigram_counts.most_common(20),\n",
    "                             columns=['bigram', 'count'])\n",
    "\n",
    "bigram_df"
   ]
  },
  {
   "cell_type": "code",
   "execution_count": 175,
   "id": "dd42c5f4-b715-4d89-b7bc-b79add6eccae",
   "metadata": {},
   "outputs": [],
   "source": [
    "### visualize network \n",
    "# Create dictionary of bigrams and their counts\n",
    "d = bigram_df.set_index('bigram').T.to_dict('records')"
   ]
  },
  {
   "cell_type": "code",
   "execution_count": 176,
   "id": "7965e305-644b-4813-9960-753894182200",
   "metadata": {},
   "outputs": [],
   "source": [
    "# Create network plot \n",
    "G = nx.Graph()\n",
    "\n",
    "# Create connections between nodes\n",
    "for k, v in d[0].items():\n",
    "    G.add_edge(k[0], k[1], weight=(v * 10))\n"
   ]
  },
  {
   "cell_type": "code",
   "execution_count": 177,
   "id": "9c7172ba-5d90-49ae-828d-53077a88502a",
   "metadata": {},
   "outputs": [
    {
     "ename": "TypeError",
     "evalue": "Argument 'other' has incorrect type (expected spacy.tokens.token.Token, got str)",
     "output_type": "error",
     "traceback": [
      "\u001b[0;31m---------------------------------------------------------------------------\u001b[0m",
      "\u001b[0;31mTypeError\u001b[0m                                 Traceback (most recent call last)",
      "Input \u001b[0;32mIn [177]\u001b[0m, in \u001b[0;36m<module>\u001b[0;34m\u001b[0m\n\u001b[1;32m     16\u001b[0m \u001b[38;5;28;01mfor\u001b[39;00m key, value \u001b[38;5;129;01min\u001b[39;00m pos\u001b[38;5;241m.\u001b[39mitems():\n\u001b[1;32m     17\u001b[0m     x, y \u001b[38;5;241m=\u001b[39m value[\u001b[38;5;241m0\u001b[39m]\u001b[38;5;241m+\u001b[39m\u001b[38;5;241m.135\u001b[39m, value[\u001b[38;5;241m1\u001b[39m]\u001b[38;5;241m+\u001b[39m\u001b[38;5;241m.045\u001b[39m\n\u001b[0;32m---> 18\u001b[0m     \u001b[43max\u001b[49m\u001b[38;5;241;43m.\u001b[39;49m\u001b[43mtext\u001b[49m\u001b[43m(\u001b[49m\u001b[43mx\u001b[49m\u001b[43m,\u001b[49m\u001b[43m \u001b[49m\u001b[43my\u001b[49m\u001b[43m,\u001b[49m\n\u001b[1;32m     19\u001b[0m \u001b[43m            \u001b[49m\u001b[43ms\u001b[49m\u001b[38;5;241;43m=\u001b[39;49m\u001b[43mkey\u001b[49m\u001b[43m,\u001b[49m\n\u001b[1;32m     20\u001b[0m \u001b[43m            \u001b[49m\u001b[43mbbox\u001b[49m\u001b[38;5;241;43m=\u001b[39;49m\u001b[38;5;28;43mdict\u001b[39;49m\u001b[43m(\u001b[49m\u001b[43mfacecolor\u001b[49m\u001b[38;5;241;43m=\u001b[39;49m\u001b[38;5;124;43m'\u001b[39;49m\u001b[38;5;124;43mred\u001b[39;49m\u001b[38;5;124;43m'\u001b[39;49m\u001b[43m,\u001b[49m\u001b[43m \u001b[49m\u001b[43malpha\u001b[49m\u001b[38;5;241;43m=\u001b[39;49m\u001b[38;5;241;43m0.25\u001b[39;49m\u001b[43m)\u001b[49m\u001b[43m,\u001b[49m\n\u001b[1;32m     21\u001b[0m \u001b[43m            \u001b[49m\u001b[43mhorizontalalignment\u001b[49m\u001b[38;5;241;43m=\u001b[39;49m\u001b[38;5;124;43m'\u001b[39;49m\u001b[38;5;124;43mcenter\u001b[39;49m\u001b[38;5;124;43m'\u001b[39;49m\u001b[43m,\u001b[49m\u001b[43m \u001b[49m\u001b[43mfontsize\u001b[49m\u001b[38;5;241;43m=\u001b[39;49m\u001b[38;5;241;43m13\u001b[39;49m\u001b[43m)\u001b[49m\n\u001b[1;32m     22\u001b[0m plt\u001b[38;5;241m.\u001b[39mshow()\n",
      "File \u001b[0;32m/opt/miniconda3/envs/531/lib/python3.10/site-packages/matplotlib/axes/_axes.py:659\u001b[0m, in \u001b[0;36mAxes.text\u001b[0;34m(self, x, y, s, fontdict, **kwargs)\u001b[0m\n\u001b[1;32m    598\u001b[0m \u001b[38;5;124;03m\"\"\"\u001b[39;00m\n\u001b[1;32m    599\u001b[0m \u001b[38;5;124;03mAdd text to the Axes.\u001b[39;00m\n\u001b[1;32m    600\u001b[0m \n\u001b[0;32m   (...)\u001b[0m\n\u001b[1;32m    649\u001b[0m \u001b[38;5;124;03m    >>> text(x, y, s, bbox=dict(facecolor='red', alpha=0.5))\u001b[39;00m\n\u001b[1;32m    650\u001b[0m \u001b[38;5;124;03m\"\"\"\u001b[39;00m\n\u001b[1;32m    651\u001b[0m effective_kwargs \u001b[38;5;241m=\u001b[39m {\n\u001b[1;32m    652\u001b[0m     \u001b[38;5;124m'\u001b[39m\u001b[38;5;124mverticalalignment\u001b[39m\u001b[38;5;124m'\u001b[39m: \u001b[38;5;124m'\u001b[39m\u001b[38;5;124mbaseline\u001b[39m\u001b[38;5;124m'\u001b[39m,\n\u001b[1;32m    653\u001b[0m     \u001b[38;5;124m'\u001b[39m\u001b[38;5;124mhorizontalalignment\u001b[39m\u001b[38;5;124m'\u001b[39m: \u001b[38;5;124m'\u001b[39m\u001b[38;5;124mleft\u001b[39m\u001b[38;5;124m'\u001b[39m,\n\u001b[0;32m   (...)\u001b[0m\n\u001b[1;32m    657\u001b[0m     \u001b[38;5;241m*\u001b[39m\u001b[38;5;241m*\u001b[39mkwargs,\n\u001b[1;32m    658\u001b[0m }\n\u001b[0;32m--> 659\u001b[0m t \u001b[38;5;241m=\u001b[39m \u001b[43mmtext\u001b[49m\u001b[38;5;241;43m.\u001b[39;49m\u001b[43mText\u001b[49m\u001b[43m(\u001b[49m\u001b[43mx\u001b[49m\u001b[43m,\u001b[49m\u001b[43m \u001b[49m\u001b[43my\u001b[49m\u001b[43m,\u001b[49m\u001b[43m \u001b[49m\u001b[43mtext\u001b[49m\u001b[38;5;241;43m=\u001b[39;49m\u001b[43ms\u001b[49m\u001b[43m,\u001b[49m\u001b[43m \u001b[49m\u001b[38;5;241;43m*\u001b[39;49m\u001b[38;5;241;43m*\u001b[39;49m\u001b[43meffective_kwargs\u001b[49m\u001b[43m)\u001b[49m\n\u001b[1;32m    660\u001b[0m t\u001b[38;5;241m.\u001b[39mset_clip_path(\u001b[38;5;28mself\u001b[39m\u001b[38;5;241m.\u001b[39mpatch)\n\u001b[1;32m    661\u001b[0m \u001b[38;5;28mself\u001b[39m\u001b[38;5;241m.\u001b[39m_add_text(t)\n",
      "File \u001b[0;32m/opt/miniconda3/envs/531/lib/python3.10/site-packages/matplotlib/text.py:142\u001b[0m, in \u001b[0;36mText.__init__\u001b[0;34m(self, x, y, text, color, verticalalignment, horizontalalignment, multialignment, fontproperties, rotation, linespacing, rotation_mode, usetex, wrap, transform_rotates_text, parse_math, **kwargs)\u001b[0m\n\u001b[1;32m    140\u001b[0m \u001b[38;5;28mself\u001b[39m\u001b[38;5;241m.\u001b[39m_x, \u001b[38;5;28mself\u001b[39m\u001b[38;5;241m.\u001b[39m_y \u001b[38;5;241m=\u001b[39m x, y\n\u001b[1;32m    141\u001b[0m \u001b[38;5;28mself\u001b[39m\u001b[38;5;241m.\u001b[39m_text \u001b[38;5;241m=\u001b[39m \u001b[38;5;124m'\u001b[39m\u001b[38;5;124m'\u001b[39m\n\u001b[0;32m--> 142\u001b[0m \u001b[38;5;28;43mself\u001b[39;49m\u001b[38;5;241;43m.\u001b[39;49m\u001b[43mset_text\u001b[49m\u001b[43m(\u001b[49m\u001b[43mtext\u001b[49m\u001b[43m)\u001b[49m\n\u001b[1;32m    143\u001b[0m \u001b[38;5;28mself\u001b[39m\u001b[38;5;241m.\u001b[39mset_color(\n\u001b[1;32m    144\u001b[0m     color \u001b[38;5;28;01mif\u001b[39;00m color \u001b[38;5;129;01mis\u001b[39;00m \u001b[38;5;129;01mnot\u001b[39;00m \u001b[38;5;28;01mNone\u001b[39;00m \u001b[38;5;28;01melse\u001b[39;00m mpl\u001b[38;5;241m.\u001b[39mrcParams[\u001b[38;5;124m\"\u001b[39m\u001b[38;5;124mtext.color\u001b[39m\u001b[38;5;124m\"\u001b[39m])\n\u001b[1;32m    145\u001b[0m \u001b[38;5;28mself\u001b[39m\u001b[38;5;241m.\u001b[39mset_fontproperties(fontproperties)\n",
      "File \u001b[0;32m/opt/miniconda3/envs/531/lib/python3.10/site-packages/matplotlib/text.py:1223\u001b[0m, in \u001b[0;36mText.set_text\u001b[0;34m(self, s)\u001b[0m\n\u001b[1;32m   1221\u001b[0m \u001b[38;5;28;01mif\u001b[39;00m s \u001b[38;5;129;01mis\u001b[39;00m \u001b[38;5;28;01mNone\u001b[39;00m:\n\u001b[1;32m   1222\u001b[0m     s \u001b[38;5;241m=\u001b[39m \u001b[38;5;124m'\u001b[39m\u001b[38;5;124m'\u001b[39m\n\u001b[0;32m-> 1223\u001b[0m \u001b[38;5;28;01mif\u001b[39;00m \u001b[43ms\u001b[49m\u001b[43m \u001b[49m\u001b[38;5;241;43m!=\u001b[39;49m\u001b[43m \u001b[49m\u001b[38;5;28;43mself\u001b[39;49m\u001b[38;5;241;43m.\u001b[39;49m\u001b[43m_text\u001b[49m:\n\u001b[1;32m   1224\u001b[0m     \u001b[38;5;28mself\u001b[39m\u001b[38;5;241m.\u001b[39m_text \u001b[38;5;241m=\u001b[39m \u001b[38;5;28mstr\u001b[39m(s)\n\u001b[1;32m   1225\u001b[0m     \u001b[38;5;28mself\u001b[39m\u001b[38;5;241m.\u001b[39mstale \u001b[38;5;241m=\u001b[39m \u001b[38;5;28;01mTrue\u001b[39;00m\n",
      "\u001b[0;31mTypeError\u001b[0m: Argument 'other' has incorrect type (expected spacy.tokens.token.Token, got str)"
     ]
    },
    {
     "data": {
      "image/png": "[encoded data removed]",
      "text/plain": [
       "<Figure size 720x576 with 1 Axes>"
      ]
     },
     "metadata": {},
     "output_type": "display_data"
    }
   ],
   "source": [
    "import matplotlib.pyplot as plt\n",
    "fig, ax = plt.subplots(figsize=(10, 8))\n",
    "\n",
    "pos = nx.spring_layout(G, k=2)\n",
    "\n",
    "# Plot networks\n",
    "nx.draw_networkx(G, pos,\n",
    "                 font_size=16,\n",
    "                 width=3,\n",
    "                 edge_color='grey',\n",
    "                 node_color='purple',\n",
    "                 with_labels = False,\n",
    "                 ax=ax)\n",
    "\n",
    "# Create offset labels\n",
    "for key, value in pos.items():\n",
    "    x, y = value[0]+.135, value[1]+.045\n",
    "    ax.text(x, y,\n",
    "            s=key,\n",
    "            bbox=dict(facecolor='red', alpha=0.25),\n",
    "            horizontalalignment='center', fontsize=13)\n",
    "plt.show()"
   ]
  },
  {
   "cell_type": "code",
   "execution_count": null,
   "id": "528139d9-d4bf-47e8-b693-0b6535253ca7",
   "metadata": {},
   "outputs": [],
   "source": []
  }
 ],
 "metadata": {
  "kernelspec": {
   "display_name": "Python [conda env:531]",
   "language": "python",
   "name": "conda-env-531-py"
  },
  "language_info": {
   "codemirror_mode": {
    "name": "ipython",
    "version": 3
   },
   "file_extension": ".py",
   "mimetype": "text/x-python",
   "name": "python",
   "nbconvert_exporter": "python",
   "pygments_lexer": "ipython3",
   "version": "3.10.2"
  }
 },
 "nbformat": 4,
 "nbformat_minor": 5
}
