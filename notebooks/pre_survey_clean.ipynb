{
 "cells": [
  {
   "cell_type": "code",
   "execution_count": 10,
   "id": "48cc09c8-18de-49af-85ea-562f313ba28b",
   "metadata": {},
   "outputs": [],
   "source": [
    "import pandas as pd\n",
    "import numpy as np\n",
    "import altair as alt\n",
    "import spacy\n",
    "# !python -m spacy download en_core_web_sm\n",
    "nlp = spacy.load(\"en_core_web_sm\")"
   ]
  },
  {
   "cell_type": "code",
   "execution_count": 2,
   "id": "0b72bf84-3db6-415c-b758-1754ef6fda96",
   "metadata": {},
   "outputs": [],
   "source": [
    "# load pre survey data for 2021 \n",
    "pre_df = pd.read_csv(\"../data/processed/pre_survey.csv\")"
   ]
  },
  {
   "cell_type": "markdown",
   "id": "6c1611ea-5006-4ae2-b9b1-8148ce7275a4",
   "metadata": {},
   "source": [
    "### Dataset exploration"
   ]
  },
  {
   "cell_type": "code",
   "execution_count": 3,
   "id": "f844b0ad-f23f-476f-81d9-7f485d9aa93c",
   "metadata": {},
   "outputs": [
    {
     "data": {
      "text/html": [
       "<div>\n",
       "<style scoped>\n",
       "    .dataframe tbody tr th:only-of-type {\n",
       "        vertical-align: middle;\n",
       "    }\n",
       "\n",
       "    .dataframe tbody tr th {\n",
       "        vertical-align: top;\n",
       "    }\n",
       "\n",
       "    .dataframe thead th {\n",
       "        text-align: right;\n",
       "    }\n",
       "</style>\n",
       "<table border=\"1\" class=\"dataframe\">\n",
       "  <thead>\n",
       "    <tr style=\"text-align: right;\">\n",
       "      <th></th>\n",
       "      <th>ID</th>\n",
       "      <th>Email</th>\n",
       "      <th>Name</th>\n",
       "      <th>question_1</th>\n",
       "      <th>question_2</th>\n",
       "      <th>question_3</th>\n",
       "      <th>question_4</th>\n",
       "      <th>question_5</th>\n",
       "      <th>question_6</th>\n",
       "      <th>question_7</th>\n",
       "      <th>question_8</th>\n",
       "    </tr>\n",
       "  </thead>\n",
       "  <tbody>\n",
       "    <tr>\n",
       "      <th>0</th>\n",
       "      <td>1</td>\n",
       "      <td>anonymous</td>\n",
       "      <td>NaN</td>\n",
       "      <td>Project Manager;Subject Matter Expert (SME);</td>\n",
       "      <td>Yes I have attended Project Management Trainin...</td>\n",
       "      <td>Multiple Projects</td>\n",
       "      <td>I have been involved in various Projects and I...</td>\n",
       "      <td>Migration of CRM. In this Project, we are tryi...</td>\n",
       "      <td>5</td>\n",
       "      <td>Strategic, Analytical and Collaborative</td>\n",
       "      <td>Maintaining Project on Track with respect to r...</td>\n",
       "    </tr>\n",
       "    <tr>\n",
       "      <th>1</th>\n",
       "      <td>2</td>\n",
       "      <td>anonymous</td>\n",
       "      <td>NaN</td>\n",
       "      <td>Project Manager;</td>\n",
       "      <td>No</td>\n",
       "      <td>Multiple Projects</td>\n",
       "      <td>I manage multiple program schedules and teams,...</td>\n",
       "      <td>Phase 2 Renovations. Our organization is prepa...</td>\n",
       "      <td>45</td>\n",
       "      <td>Commitment to the project and a unified goal, ...</td>\n",
       "      <td>Reduced efficiency and timeline drag due from ...</td>\n",
       "    </tr>\n",
       "    <tr>\n",
       "      <th>2</th>\n",
       "      <td>3</td>\n",
       "      <td>anonymous</td>\n",
       "      <td>NaN</td>\n",
       "      <td>Not sure;non profit doing projects? ;</td>\n",
       "      <td>Nope!</td>\n",
       "      <td>Multiple Projects</td>\n",
       "      <td>Multiple community based projects (event plann...</td>\n",
       "      <td>We are currently doing a community wide \"Needs...</td>\n",
       "      <td>10-May</td>\n",
       "      <td>Not sure if TEAM is an acronym for something h...</td>\n",
       "      <td>- taking the ideas and translating them into t...</td>\n",
       "    </tr>\n",
       "    <tr>\n",
       "      <th>3</th>\n",
       "      <td>4</td>\n",
       "      <td>anonymous</td>\n",
       "      <td>NaN</td>\n",
       "      <td>Project Manager;</td>\n",
       "      <td>I had some training during my master's degree ...</td>\n",
       "      <td>Multiple Projects</td>\n",
       "      <td>Personal &amp; professional</td>\n",
       "      <td>I am looking after Immunization Uptake Project...</td>\n",
       "      <td>3</td>\n",
       "      <td>commitment</td>\n",
       "      <td>Working with multiple stakeholders &amp; communities</td>\n",
       "    </tr>\n",
       "    <tr>\n",
       "      <th>4</th>\n",
       "      <td>5</td>\n",
       "      <td>anonymous</td>\n",
       "      <td>NaN</td>\n",
       "      <td>Project Team Member;</td>\n",
       "      <td>No\\n</td>\n",
       "      <td>Multiple Projects</td>\n",
       "      <td>Funded/fund-raising/awareness events and year ...</td>\n",
       "      <td>Funded/fund-raising/awareness events and year ...</td>\n",
       "      <td>04-Feb</td>\n",
       "      <td>Vision and intend.</td>\n",
       "      <td>Understanding communication styles.</td>\n",
       "    </tr>\n",
       "  </tbody>\n",
       "</table>\n",
       "</div>"
      ],
      "text/plain": [
       "   ID      Email  Name                                    question_1  \\\n",
       "0   1  anonymous   NaN  Project Manager;Subject Matter Expert (SME);   \n",
       "1   2  anonymous   NaN                              Project Manager;   \n",
       "2   3  anonymous   NaN         Not sure;non profit doing projects? ;   \n",
       "3   4  anonymous   NaN                              Project Manager;   \n",
       "4   5  anonymous   NaN                          Project Team Member;   \n",
       "\n",
       "                                          question_2         question_3  \\\n",
       "0  Yes I have attended Project Management Trainin...  Multiple Projects   \n",
       "1                                                 No  Multiple Projects   \n",
       "2                                             Nope!   Multiple Projects   \n",
       "3  I had some training during my master's degree ...  Multiple Projects   \n",
       "4                                               No\\n  Multiple Projects   \n",
       "\n",
       "                                          question_4  \\\n",
       "0  I have been involved in various Projects and I...   \n",
       "1  I manage multiple program schedules and teams,...   \n",
       "2  Multiple community based projects (event plann...   \n",
       "3                           Personal & professional    \n",
       "4  Funded/fund-raising/awareness events and year ...   \n",
       "\n",
       "                                          question_5 question_6  \\\n",
       "0  Migration of CRM. In this Project, we are tryi...          5   \n",
       "1  Phase 2 Renovations. Our organization is prepa...         45   \n",
       "2  We are currently doing a community wide \"Needs...     10-May   \n",
       "3  I am looking after Immunization Uptake Project...          3   \n",
       "4  Funded/fund-raising/awareness events and year ...     04-Feb   \n",
       "\n",
       "                                          question_7  \\\n",
       "0            Strategic, Analytical and Collaborative   \n",
       "1  Commitment to the project and a unified goal, ...   \n",
       "2  Not sure if TEAM is an acronym for something h...   \n",
       "3                                        commitment    \n",
       "4                                 Vision and intend.   \n",
       "\n",
       "                                          question_8  \n",
       "0  Maintaining Project on Track with respect to r...  \n",
       "1  Reduced efficiency and timeline drag due from ...  \n",
       "2  - taking the ideas and translating them into t...  \n",
       "3  Working with multiple stakeholders & communities   \n",
       "4                Understanding communication styles.  "
      ]
     },
     "execution_count": 3,
     "metadata": {},
     "output_type": "execute_result"
    }
   ],
   "source": [
    "pre_df.head()"
   ]
  },
  {
   "cell_type": "code",
   "execution_count": 4,
   "id": "c1c56d7f-c2a2-4894-95b6-75241872e098",
   "metadata": {},
   "outputs": [
    {
     "name": "stdout",
     "output_type": "stream",
     "text": [
      "<class 'pandas.core.frame.DataFrame'>\n",
      "RangeIndex: 6 entries, 0 to 5\n",
      "Data columns (total 11 columns):\n",
      " #   Column      Non-Null Count  Dtype  \n",
      "---  ------      --------------  -----  \n",
      " 0   ID          6 non-null      int64  \n",
      " 1   Email       6 non-null      object \n",
      " 2   Name        0 non-null      float64\n",
      " 3   question_1  6 non-null      object \n",
      " 4   question_2  6 non-null      object \n",
      " 5   question_3  6 non-null      object \n",
      " 6   question_4  6 non-null      object \n",
      " 7   question_5  6 non-null      object \n",
      " 8   question_6  6 non-null      object \n",
      " 9   question_7  6 non-null      object \n",
      " 10  question_8  6 non-null      object \n",
      "dtypes: float64(1), int64(1), object(9)\n",
      "memory usage: 656.0+ bytes\n"
     ]
    }
   ],
   "source": [
    "pre_df.info()"
   ]
  },
  {
   "cell_type": "code",
   "execution_count": 5,
   "id": "881f9514-5dec-46f5-b621-c8a9849108bb",
   "metadata": {},
   "outputs": [],
   "source": [
    "pre_df = pre_df.rename(columns={\"question_1\": \"attendee_roles\", \n",
    "                       \"question_2\": \"previous_attendenance\", \n",
    "                       \"question_3\": \"work_project_types\", \n",
    "                       \"question_4\": \"desc_mp\",\n",
    "                       \"question_5\": \"proj_descp\",\n",
    "                      \"question_6\": \"team_num\",\n",
    "                      \"question_7\": \"team_strength\",\n",
    "                      \"question_8\": \"proj_challenges\"})"
   ]
  },
  {
   "cell_type": "code",
   "execution_count": 6,
   "id": "50d43fd9-88b8-42fa-839b-b96c5d969563",
   "metadata": {},
   "outputs": [
    {
     "data": {
      "text/plain": [
       "(6, 11)"
      ]
     },
     "execution_count": 6,
     "metadata": {},
     "output_type": "execute_result"
    }
   ],
   "source": [
    "pre_df.shape"
   ]
  },
  {
   "cell_type": "markdown",
   "id": "eecf2374-bbef-45b5-a128-f9b2a5a5db56",
   "metadata": {},
   "source": [
    "There are 6 rows and 11 columns in the original dataset."
   ]
  },
  {
   "cell_type": "code",
   "execution_count": null,
   "id": "7ed724f8-011d-4b51-9ebf-2da7277d6b49",
   "metadata": {},
   "outputs": [],
   "source": [
    "pre_df"
   ]
  },
  {
   "cell_type": "code",
   "execution_count": null,
   "id": "f63ba82f-23d8-4740-b96c-962c38d7edaa",
   "metadata": {},
   "outputs": [],
   "source": [
    "### data cleaning \n",
    "pre_df = pre_df.replace(to_replace =\"10-May\",\n",
    "                 value =\"5-10\")\n",
    "pre_df = pre_df.replace(to_replace =\"04-Feb\",\n",
    "                 value =\"2-4\")\n",
    "\n",
    "pre_df['mp_team_cat'] = ['below 5', 'above 20', '6-10', 'below 5', 'below 5', 'NA']\n",
    "pre_df['prev_att_cat'] = ['Yes', 'No', 'No', 'Yes', 'No', 'Yes']"
   ]
  },
  {
   "cell_type": "markdown",
   "id": "7add925e-dd4b-4918-9041-e752f595497e",
   "metadata": {},
   "source": [
    "### Question 1: Do you consider yourself to be one or more of the following roles (please select all that apply"
   ]
  },
  {
   "cell_type": "code",
   "execution_count": null,
   "id": "cebf1a3a-87e8-483d-aa4b-c67ac840a6dc",
   "metadata": {},
   "outputs": [],
   "source": [
    "pre_df.attendee_roles.unique()"
   ]
  },
  {
   "cell_type": "code",
   "execution_count": null,
   "id": "eb5d0ef1-0b8d-4f96-ab66-5adc00f74e08",
   "metadata": {},
   "outputs": [],
   "source": [
    "q1_df = pre_df[[\"ID\", \"attendee_roles\"]]\n",
    "q1_df_new = q1_df.copy()"
   ]
  },
  {
   "cell_type": "code",
   "execution_count": null,
   "id": "b2343d69-960a-4893-86e1-b69f7cff5c44",
   "metadata": {},
   "outputs": [],
   "source": [
    "q1_df_new = q1_df_new.assign(attendee_roles=q1_df_new.attendee_roles.str.split(\";\")).explode('attendee_roles')\n",
    "q1_df_new['attendee_roles'].replace('', np.nan, inplace=True)\n",
    "q1_df_new.dropna(subset=['attendee_roles'], inplace=True)"
   ]
  },
  {
   "cell_type": "code",
   "execution_count": null,
   "id": "3627fad3-5932-4d1f-a803-dad95e09755b",
   "metadata": {},
   "outputs": [],
   "source": [
    "q1_df_new"
   ]
  },
  {
   "cell_type": "code",
   "execution_count": null,
   "id": "fa432940-8c7e-4f78-8815-dc8364eccbb7",
   "metadata": {},
   "outputs": [],
   "source": [
    "bar = alt.Chart(q1_df_new, title=\"Current roles of workshop participants, (n=6)\"\n",
    "               ).transform_joinaggregate(\n",
    "    total='count()',\n",
    "    groupby=['attendee_roles']\n",
    ").transform_calculate(\n",
    "    percent=alt.datum.total/6\n",
    ").mark_bar().encode(\n",
    "    x= alt.X('percent:Q', title = \"Response percerntage (%)\", axis=alt.Axis(format='%')),\n",
    "    y=alt.Y('attendee_roles', sort='x', title=\"\")\n",
    "    ).properties(\n",
    "    width=400,\n",
    "    height=200\n",
    "    )\n",
    "\n",
    "text = alt.Chart(q1_df_new, title=\"Current roles of workshop participants, (n=6)\"\n",
    "               ).transform_joinaggregate(\n",
    "    total='count()',\n",
    "    groupby=['attendee_roles']\n",
    ").transform_calculate(\n",
    "    percent=alt.datum.total/6\n",
    ").mark_text(\n",
    "        align='right',\n",
    "    ).encode(\n",
    "        y = alt.Y('attendee_roles', sort = 'x'),\n",
    "        x = alt.X('percent:Q'),\n",
    "        text=alt.Text('percent:Q',format='.1%')\n",
    ").properties(\n",
    "    width=400,\n",
    "    height=200\n",
    "    )\n",
    "\n",
    "q1_plot = alt.layer(bar, text, data=q1_df_new)\n",
    "\n",
    "# Show the plot|\n",
    "q1_plot"
   ]
  },
  {
   "cell_type": "markdown",
   "id": "a4cbe0f4-5961-4df9-b986-2fa42209063f",
   "metadata": {},
   "source": [
    "### Question 2: Have you ever attended a course or viewed an educational webinar about project management?  If so please describe this training."
   ]
  },
  {
   "cell_type": "code",
   "execution_count": null,
   "id": "cf52a565-d563-4a07-b2ca-83d2409063e4",
   "metadata": {},
   "outputs": [],
   "source": [
    "pre_df.previous_attendenance.unique()"
   ]
  },
  {
   "cell_type": "code",
   "execution_count": null,
   "id": "90afd8ab-5887-4fdd-8cee-4e280a99478c",
   "metadata": {},
   "outputs": [],
   "source": [
    "yes_bool = pre_df[\"previous_attendenance\"].str.contains('Yes|some')"
   ]
  },
  {
   "cell_type": "code",
   "execution_count": null,
   "id": "827db76b-6085-446f-8dd3-974b32706397",
   "metadata": {},
   "outputs": [],
   "source": [
    "yes_bool.value_counts(normalize=True)"
   ]
  },
  {
   "cell_type": "code",
   "execution_count": null,
   "id": "60b42abc-7ae8-43f5-93cf-116434eeec4f",
   "metadata": {},
   "outputs": [],
   "source": [
    "bar = alt.Chart(pre_df, title=\"Previous experience with project manangement content, (n=6)\"\n",
    "               ).transform_joinaggregate(\n",
    "    total='count()',\n",
    "    groupby=['prev_att_cat']\n",
    ").transform_calculate(\n",
    "    percent=alt.datum.total/6\n",
    ").mark_bar().encode(\n",
    "    x= alt.X('percent:Q', title = \"Response percerntage (%)\", axis=alt.Axis(format='%')),\n",
    "    y=alt.Y('prev_att_cat', sort='x', title=\"\")\n",
    "    ).properties(\n",
    "    width=400,\n",
    "    height=100\n",
    "    )\n",
    "\n",
    "text = alt.Chart(pre_df, title=\"Previous experience with project manangement content, (n=6)\"\n",
    "               ).transform_joinaggregate(\n",
    "    total='count()',\n",
    "    groupby=['prev_att_cat']\n",
    ").transform_calculate(\n",
    "    percent=alt.datum.total/6\n",
    ").mark_text(\n",
    "        align='right',\n",
    "    ).encode(\n",
    "        y = alt.Y('prev_att_cat', sort = 'x'),\n",
    "        x = alt.X('percent:Q'),\n",
    "        text=alt.Text('percent:Q',format='.1%')\n",
    ").properties(\n",
    "    width=400,\n",
    "    height=100\n",
    "    )\n",
    "\n",
    "q2_plot = alt.layer(bar, text, data=pre_df)\n",
    "\n",
    "# Show the plot|\n",
    "q2_plot"
   ]
  },
  {
   "cell_type": "markdown",
   "id": "5aac85f5-6973-4968-9a88-83ffc16fd1ad",
   "metadata": {},
   "source": [
    "### Question 3: At work are you typically focused on one project at a time or multiple projects?"
   ]
  },
  {
   "cell_type": "code",
   "execution_count": null,
   "id": "c9bf5e46-3824-466c-8490-f377262a727f",
   "metadata": {},
   "outputs": [],
   "source": [
    "pre_df.work_project_types.value_counts()"
   ]
  },
  {
   "cell_type": "markdown",
   "id": "6020e435-631a-4901-876e-cee1d70540a4",
   "metadata": {},
   "source": [
    "### Question 4: If multiple projects, please describe or type N/A for not applicable?"
   ]
  },
  {
   "cell_type": "code",
   "execution_count": 7,
   "id": "60903f84-81b2-4f80-9ed1-a4103d5f5304",
   "metadata": {},
   "outputs": [
    {
     "data": {
      "text/plain": [
       "I have been involved in various Projects and I have to be agile in doing the Project Management.                                                                                                                                                                                                              1\n",
       "I manage multiple program schedules and teams, lead group projects with several committees, coordinate daily volunteers, direct and coordinate administrative teams and am the primary driving force for our annual action plans/strategic plan. I have one staff member and everyone else are volunteers.    1\n",
       "Multiple community based projects (event planning, community projects (placemaking), long term and short term projects)                                                                                                                                                                                       1\n",
       "Personal & professional                                                                                                                                                                                                                                                                                       1\n",
       "Funded/fund-raising/awareness events and year long projects.                                                                                                                                                                                                                                                  1\n",
       "N. A                                                                                                                                                                                                                                                                                                          1\n",
       "Name: desc_mp, dtype: int64"
      ]
     },
     "execution_count": 7,
     "metadata": {},
     "output_type": "execute_result"
    }
   ],
   "source": [
    "pre_df.desc_mp.value_counts()"
   ]
  },
  {
   "cell_type": "code",
   "execution_count": 8,
   "id": "20c08ef5-45bb-4ac2-896d-cc0682edb862",
   "metadata": {},
   "outputs": [],
   "source": [
    "from preprocessing import *"
   ]
  },
  {
   "cell_type": "code",
   "execution_count": 83,
   "id": "501c8414-b94d-4b58-90ce-156ff4629be8",
   "metadata": {},
   "outputs": [
    {
     "name": "stderr",
     "output_type": "stream",
     "text": [
      "/var/folders/lx/k5799j011wz6q8hpjbh635sc0000gn/T/ipykernel_40869/2662732144.py:3: SettingWithCopyWarning: \n",
      "A value is trying to be set on a copy of a slice from a DataFrame.\n",
      "Try using .loc[row_indexer,col_indexer] = value instead\n",
      "\n",
      "See the caveats in the documentation: https://pandas.pydata.org/pandas-docs/stable/user_guide/indexing.html#returning-a-view-versus-a-copy\n",
      "  q4_df[\"pp_text\"] = q4_df[\"desc_mp\"].apply(preprocess)\n",
      "/var/folders/lx/k5799j011wz6q8hpjbh635sc0000gn/T/ipykernel_40869/2662732144.py:4: SettingWithCopyWarning: \n",
      "A value is trying to be set on a copy of a slice from a DataFrame.\n",
      "Try using .loc[row_indexer,col_indexer] = value instead\n",
      "\n",
      "See the caveats in the documentation: https://pandas.pydata.org/pandas-docs/stable/user_guide/indexing.html#returning-a-view-versus-a-copy\n",
      "  q4_df[\"pp_text\"] = [\n"
     ]
    }
   ],
   "source": [
    "q4_df = pd.DataFrame()\n",
    "q4_df = pre_df[[\"desc_mp\"]]\n",
    "q4_df[\"pp_text\"] = q4_df[\"desc_mp\"].apply(preprocess)\n",
    "q4_df[\"pp_text\"] = [\n",
    "    preprocess_spacy(spacy_text) for spacy_text in nlp.pipe(q4_df[\"pp_text\"])\n",
    "]\n",
    "q4_df.dropna()\n",
    "\n",
    "\n",
    "personal_project_desc = q4_df.pp_text.str.cat(sep = ' ')\n",
    "\n",
    "doc = nlp(personal_project_desc, disable = ['ner'])\n",
    "\n",
    "from collections import Counter\n",
    "words = [token.lemma_ for token in doc if not token.is_stop and not token.is_punct] \n",
    "\n",
    "word_freq = Counter(words) \n",
    "word_freq = word_freq.most_common(20)"
   ]
  },
  {
   "cell_type": "code",
   "execution_count": 84,
   "id": "57401870-b43a-4210-9468-c97f4af2f121",
   "metadata": {},
   "outputs": [],
   "source": [
    "df_q4 = pd.DataFrame(word_freq, columns =['Term', 'Frequency'])\n",
    "df_q4.set_index('Term')\n",
    "df_q4.to_csv('../results/tables/pre_survey_q4.csv', index=False)"
   ]
  },
  {
   "cell_type": "code",
   "execution_count": 85,
   "id": "6f81e735-9350-48d4-9cff-8429f041f6ba",
   "metadata": {},
   "outputs": [],
   "source": [
    "# EDA Initial word cloud \n",
    "from wordcloud import WordCloud\n",
    "words = \" \".join(q4_df[\"pp_text\"].tolist())\n",
    "wordcloud = WordCloud(width=800, height=400, random_state=591)\n",
    "wc = wordcloud.generate(words).to_image()\n",
    "wc.save('../results/images/q4_wc.png')"
   ]
  },
  {
   "cell_type": "markdown",
   "id": "0e91a940-f251-49e3-a2df-ec0050eef6f5",
   "metadata": {},
   "source": [
    "### Question 5: Participant personal project description"
   ]
  },
  {
   "cell_type": "code",
   "execution_count": 86,
   "id": "902bf038-33ee-4061-bf0f-e663ab1713ec",
   "metadata": {},
   "outputs": [
    {
     "data": {
      "text/plain": [
       "Migration of CRM. In this Project, we are trying to migrate an old Access CRM to a new CRM-Which is more sophisticated and easy to use.                                                                                                                                                                                                                           1\n",
       "Phase 2 Renovations. Our organization is preparing for the final phase of renovations to our new facility and my role will involve coordination of facility oversight committees, contractors, grant and fundraising teams, consultants and volunteers while working alongside Island Health and other regulatory bodies.                                         1\n",
       "We are currently doing a community wide \"Needs Assessment\" with a UVic researcher. This needs assessment will then be carried into a longer term community wide visioning process in Fall 2022. This project will include community engagement, another partnership with UVic, collaboration with the City, and reporting out to community and grant funders.     1\n",
       "I am looking after Immunization Uptake Project with MOSAIC                                                                                                                                                                                                                                                                                                        1\n",
       "Funded/fund-raising/awareness events and year long projects.                                                                                                                                                                                                                                                                                                      1\n",
       "I would love to participate as a trainer volunteer                                                                                                                                                                                                                                                                                                                1\n",
       "Name: proj_descp, dtype: int64"
      ]
     },
     "execution_count": 86,
     "metadata": {},
     "output_type": "execute_result"
    }
   ],
   "source": [
    "pre_df.proj_descp.value_counts()"
   ]
  },
  {
   "cell_type": "code",
   "execution_count": 87,
   "id": "98366ffb-410b-4605-9fcc-ef13021a9a0d",
   "metadata": {},
   "outputs": [
    {
     "name": "stderr",
     "output_type": "stream",
     "text": [
      "/var/folders/lx/k5799j011wz6q8hpjbh635sc0000gn/T/ipykernel_40869/4169175901.py:3: SettingWithCopyWarning: \n",
      "A value is trying to be set on a copy of a slice from a DataFrame.\n",
      "Try using .loc[row_indexer,col_indexer] = value instead\n",
      "\n",
      "See the caveats in the documentation: https://pandas.pydata.org/pandas-docs/stable/user_guide/indexing.html#returning-a-view-versus-a-copy\n",
      "  q5_df[\"pp_text\"] = q5_df[\"proj_descp\"].apply(preprocess)\n",
      "/var/folders/lx/k5799j011wz6q8hpjbh635sc0000gn/T/ipykernel_40869/4169175901.py:4: SettingWithCopyWarning: \n",
      "A value is trying to be set on a copy of a slice from a DataFrame.\n",
      "Try using .loc[row_indexer,col_indexer] = value instead\n",
      "\n",
      "See the caveats in the documentation: https://pandas.pydata.org/pandas-docs/stable/user_guide/indexing.html#returning-a-view-versus-a-copy\n",
      "  q5_df[\"pp_text\"] = [\n"
     ]
    }
   ],
   "source": [
    "q5_df = pd.DataFrame()\n",
    "q5_df = pre_df[[\"proj_descp\"]]\n",
    "q5_df[\"pp_text\"] = q5_df[\"proj_descp\"].apply(preprocess)\n",
    "q5_df[\"pp_text\"] = [\n",
    "    preprocess_spacy(spacy_text) for spacy_text in nlp.pipe(q5_df[\"pp_text\"])\n",
    "]\n",
    "q5_df.dropna()\n",
    "\n",
    "\n",
    "project_desc_det = q5_df.pp_text.str.cat(sep = ' ')\n",
    "\n",
    "doc = nlp(project_desc_det, disable = ['ner'])\n",
    "\n",
    "from collections import Counter\n",
    "words = [token.lemma_ for token in doc if not token.is_stop and not token.is_punct] \n",
    "\n",
    "word_freq = Counter(words) \n",
    "word_freq_1 = word_freq.most_common(20)"
   ]
  },
  {
   "cell_type": "code",
   "execution_count": 88,
   "id": "72bd4510-7104-4b1c-9acc-7e34581d61ad",
   "metadata": {},
   "outputs": [],
   "source": [
    "df_q5 = pd.DataFrame(word_freq_1, columns =['Term', 'Frequency'])\n",
    "df_q5.set_index('Term')\n",
    "df_q5.to_csv('../results/tables/pre_survey_q5.csv', index=False)"
   ]
  },
  {
   "cell_type": "code",
   "execution_count": 89,
   "id": "b01c3746-b41c-4151-b8f7-3b8d33229ecc",
   "metadata": {},
   "outputs": [],
   "source": [
    "# EDA Initial word cloud \n",
    "from wordcloud import WordCloud\n",
    "words = \" \".join(q5_df[\"pp_text\"].tolist())\n",
    "wordcloud = WordCloud(width=800, height=400, random_state=591)\n",
    "wc = wordcloud.generate(words).to_image()\n",
    "wc.save('../results/images/q5_wc.png')"
   ]
  },
  {
   "cell_type": "markdown",
   "id": "74b9dda8-2c4c-40d9-9fdc-2fbdf27008b5",
   "metadata": {},
   "source": [
    "### Question 6: Approximately how many team members, including you, will be active on that particular project?"
   ]
  },
  {
   "cell_type": "code",
   "execution_count": null,
   "id": "0385359c-ae04-437e-9b2e-3444dcdaa247",
   "metadata": {},
   "outputs": [],
   "source": [
    "pre_df.team_num.value_counts()"
   ]
  },
  {
   "cell_type": "markdown",
   "id": "392cd69a-ebf1-4ecf-a9ee-7abe2658e194",
   "metadata": {},
   "source": [
    "Note: make these integers or category options in the survey for better analysis"
   ]
  },
  {
   "cell_type": "code",
   "execution_count": null,
   "id": "55218615-30a0-49ef-909d-84f1a8394351",
   "metadata": {},
   "outputs": [],
   "source": [
    "pre_df.mp_team_cat.value_counts()"
   ]
  },
  {
   "cell_type": "code",
   "execution_count": null,
   "id": "baeeb911-b6c7-401d-a0ba-f551e500c68b",
   "metadata": {},
   "outputs": [],
   "source": [
    "bar = alt.Chart(pre_df, title=\"No: of team members involved in current projects, (n=6)\"\n",
    "               ).transform_joinaggregate(\n",
    "    total='count()',\n",
    "    groupby=['mp_team_cat']\n",
    ").transform_calculate(\n",
    "    percent=alt.datum.total/6\n",
    ").mark_bar().encode(\n",
    "    x= alt.X('percent:Q', title = \"Response percerntage (%)\", axis=alt.Axis(format='%')),\n",
    "    y=alt.Y('mp_team_cat', sort='x', title=\"\")\n",
    "    ).properties(\n",
    "    width=400,\n",
    "    height=150\n",
    "    )\n",
    "\n",
    "text = alt.Chart(pre_df, title=\"No: of team members involved in current projects, (n=6)\"\n",
    "               ).transform_joinaggregate(\n",
    "    total='count()',\n",
    "    groupby=['mp_team_cat']\n",
    ").transform_calculate(\n",
    "    percent=alt.datum.total/6\n",
    ").mark_text(\n",
    "        align='right',\n",
    "    ).encode(\n",
    "        y = alt.Y('mp_team_cat', sort = 'x'),\n",
    "        x = alt.X('percent:Q'),\n",
    "        text=alt.Text('percent:Q',format='.1%')\n",
    ").properties(\n",
    "    width=400,\n",
    "    height=150\n",
    "    )\n",
    "\n",
    "q7_plot = alt.layer(bar, text, data=pre_df)\n",
    "\n",
    "# Show the plot|\n",
    "q7_plot"
   ]
  },
  {
   "cell_type": "markdown",
   "id": "428c2534-ce63-4d8d-9caf-7eb6a7ce25e2",
   "metadata": {},
   "source": [
    "### Question 7: Please describe any areas of TEAM strength you have identified."
   ]
  },
  {
   "cell_type": "code",
   "execution_count": 90,
   "id": "845989f0-6f0c-4710-b05a-a4638b309901",
   "metadata": {},
   "outputs": [
    {
     "data": {
      "text/plain": [
       "Strategic, Analytical and Collaborative                                                                                                                                          1\n",
       "Commitment to the project and a unified goal, expertise in various related fields.                                                                                               1\n",
       "Not sure if TEAM is an acronym for something here? \\nBut strengths are - a motivated, involved, and ambitious community, we have lots of pre-existing research to build on.      1\n",
       "commitment                                                                                                                                                                       1\n",
       "Vision and intend.                                                                                                                                                               1\n",
       "N.A.                                                                                                                                                                             1\n",
       "Name: team_strength, dtype: int64"
      ]
     },
     "execution_count": 90,
     "metadata": {},
     "output_type": "execute_result"
    }
   ],
   "source": [
    "pre_df.team_strength.value_counts()"
   ]
  },
  {
   "cell_type": "code",
   "execution_count": 91,
   "id": "46685ba0-5ca1-43f3-8b7d-0f6a5900e7b5",
   "metadata": {},
   "outputs": [
    {
     "name": "stderr",
     "output_type": "stream",
     "text": [
      "/var/folders/lx/k5799j011wz6q8hpjbh635sc0000gn/T/ipykernel_40869/225878523.py:3: SettingWithCopyWarning: \n",
      "A value is trying to be set on a copy of a slice from a DataFrame.\n",
      "Try using .loc[row_indexer,col_indexer] = value instead\n",
      "\n",
      "See the caveats in the documentation: https://pandas.pydata.org/pandas-docs/stable/user_guide/indexing.html#returning-a-view-versus-a-copy\n",
      "  q7_df[\"pp_text\"] = q7_df[\"team_strength\"].apply(preprocess)\n",
      "/var/folders/lx/k5799j011wz6q8hpjbh635sc0000gn/T/ipykernel_40869/225878523.py:6: SettingWithCopyWarning: \n",
      "A value is trying to be set on a copy of a slice from a DataFrame.\n",
      "Try using .loc[row_indexer,col_indexer] = value instead\n",
      "\n",
      "See the caveats in the documentation: https://pandas.pydata.org/pandas-docs/stable/user_guide/indexing.html#returning-a-view-versus-a-copy\n",
      "  q7_df[\"pp_text\"] = [\n"
     ]
    }
   ],
   "source": [
    "q7_df = pd.DataFrame()\n",
    "q7_df = pre_df[[\"team_strength\"]]\n",
    "q7_df[\"pp_text\"] = q7_df[\"team_strength\"].apply(preprocess)\n",
    "q7_df.dropna()\n",
    "\n",
    "q7_df[\"pp_text\"] = [\n",
    "    preprocess_spacy(spacy_text) for spacy_text in nlp.pipe(q7_df[\"pp_text\"])\n",
    "]"
   ]
  },
  {
   "cell_type": "code",
   "execution_count": 92,
   "id": "35916a4b-9453-42a8-8df4-6252a4d6690d",
   "metadata": {},
   "outputs": [],
   "source": [
    "# EDA Initial word cloud \n",
    "from wordcloud import WordCloud\n",
    "words = \" \".join(q7_df[\"pp_text\"].tolist())\n",
    "wordcloud = WordCloud(width=800, height=400, random_state=591)\n",
    "wc = wordcloud.generate(words).to_image()\n",
    "wc.save('../results/images/q7_wc.png')"
   ]
  },
  {
   "cell_type": "code",
   "execution_count": 93,
   "id": "6916ccf7-b761-4a9f-a11d-c404140e4785",
   "metadata": {},
   "outputs": [],
   "source": [
    "team_str_text = q7_df.pp_text.str.cat(sep = ' ')\n",
    "\n",
    "doc = nlp(team_str_text, disable = ['ner'])\n",
    "\n",
    "\n",
    "from collections import Counter\n",
    "words = [token.lemma_ for token in doc if not token.is_stop and not token.is_punct] \n",
    "\n",
    "word_freq = Counter(words) \n",
    "word_freq_2 = word_freq.most_common(20)"
   ]
  },
  {
   "cell_type": "code",
   "execution_count": 94,
   "id": "b989a494-dfad-4905-8401-3df07b930afe",
   "metadata": {},
   "outputs": [],
   "source": [
    "df_q7 = pd.DataFrame(word_freq_2, columns =['Term', 'Frequency'])\n",
    "df_q7.set_index('Term')\n",
    "df_q7.to_csv('../results/tables/pre_survey_q7.csv', index=False)"
   ]
  },
  {
   "cell_type": "code",
   "execution_count": 38,
   "id": "83e3f2d8-0b68-4ade-b4ab-690b724fd7ed",
   "metadata": {
    "jupyter": {
     "source_hidden": true
    },
    "tags": []
   },
   "outputs": [],
   "source": [
    "import spacy\n",
    "# !python -m spacy download en_core_web_sm\n",
    "nlp = spacy.load(\"en_core_web_sm\")"
   ]
  },
  {
   "cell_type": "code",
   "execution_count": 39,
   "id": "922d6ee7-9090-4ea0-9eea-174d7bdfe539",
   "metadata": {
    "jupyter": {
     "source_hidden": true
    },
    "tags": []
   },
   "outputs": [],
   "source": [
    "nlp.max_length = 1850000"
   ]
  },
  {
   "cell_type": "code",
   "execution_count": 40,
   "id": "10e1d2c9-50a8-485a-b38b-db6812f6a7b4",
   "metadata": {
    "collapsed": true,
    "jupyter": {
     "outputs_hidden": true,
     "source_hidden": true
    },
    "tags": []
   },
   "outputs": [
    {
     "data": {
      "text/plain": [
       "array(['Migration of CRM. In this Project, we are trying to migrate an old Access CRM to a new CRM-Which is more sophisticated and easy to use.',\n",
       "       'Phase 2 Renovations. Our organization is preparing for the final phase of renovations to our new facility and my role will involve coordination of facility oversight committees, contractors, grant and fundraising teams, consultants and volunteers while working alongside Island Health and other regulatory bodies. ',\n",
       "       'We are currently doing a community wide \"Needs Assessment\" with a UVic researcher. This needs assessment will then be carried into a longer term community wide visioning process in Fall 2022. This project will include community engagement, another partnership with UVic, collaboration with the City, and reporting out to community and grant funders. ',\n",
       "       'I am looking after Immunization Uptake Project with MOSAIC ',\n",
       "       'Funded/fund-raising/awareness events and year long projects.',\n",
       "       'I would love to participate as a trainer volunteer  '],\n",
       "      dtype=object)"
      ]
     },
     "execution_count": 40,
     "metadata": {},
     "output_type": "execute_result"
    }
   ],
   "source": [
    "pre_df.proj_descp.unique()"
   ]
  },
  {
   "cell_type": "code",
   "execution_count": 41,
   "id": "9ad21f38-68cf-4283-96d7-a9d2e147ceba",
   "metadata": {
    "jupyter": {
     "source_hidden": true
    },
    "tags": []
   },
   "outputs": [],
   "source": [
    "proj_descp_text = pre_df.proj_descp.str.cat(sep = ' ')"
   ]
  },
  {
   "cell_type": "code",
   "execution_count": 42,
   "id": "00c5dc5e-d6ff-458b-8e55-e36e36c8eaea",
   "metadata": {
    "collapsed": true,
    "jupyter": {
     "outputs_hidden": true,
     "source_hidden": true
    },
    "tags": []
   },
   "outputs": [
    {
     "data": {
      "text/plain": [
       "'Migration of CRM. In this Project, we are trying to migrate an old Access CRM to a new CRM-Which is more sophisticated and easy to use. Phase 2 Renovations. Our organization is preparing for the final phase of renovations to our new facility and my role will involve coordination of facility oversight committees, contractors, grant and fundraising teams, consultants and volunteers while working alongside Island Health and other regulatory bodies.  We are currently doing a community wide \"Needs Assessment\" with a UVic researcher. This needs assessment will then be carried into a longer term community wide visioning process in Fall 2022. This project will include community engagement, another partnership with UVic, collaboration with the City, and reporting out to community and grant funders.  I am looking after Immunization Uptake Project with MOSAIC  Funded/fund-raising/awareness events and year long projects. I would love to participate as a trainer volunteer  '"
      ]
     },
     "execution_count": 42,
     "metadata": {},
     "output_type": "execute_result"
    }
   ],
   "source": [
    "proj_descp_text"
   ]
  },
  {
   "cell_type": "code",
   "execution_count": 43,
   "id": "a9993db8-482f-45ec-b435-7e4709b64b7f",
   "metadata": {
    "jupyter": {
     "source_hidden": true
    },
    "tags": []
   },
   "outputs": [],
   "source": [
    "doc = nlp(proj_descp_text, disable = ['ner'])"
   ]
  },
  {
   "cell_type": "code",
   "execution_count": 44,
   "id": "fd7dca87-26dd-4b4f-9157-75ba57648996",
   "metadata": {
    "collapsed": true,
    "jupyter": {
     "outputs_hidden": true,
     "source_hidden": true
    },
    "tags": []
   },
   "outputs": [
    {
     "data": {
      "text/plain": [
       "[(' ', 4),\n",
       " ('community', 4),\n",
       " ('CRM', 3),\n",
       " ('Project', 2),\n",
       " ('new', 2),\n",
       " ('phase', 2),\n",
       " ('renovation', 2),\n",
       " ('facility', 2),\n",
       " ('grant', 2),\n",
       " ('volunteer', 2),\n",
       " ('wide', 2),\n",
       " ('need', 2),\n",
       " ('assessment', 2),\n",
       " ('long', 2),\n",
       " ('project', 2),\n",
       " ('Migration', 1),\n",
       " ('try', 1),\n",
       " ('migrate', 1),\n",
       " ('old', 1),\n",
       " ('Access', 1)]"
      ]
     },
     "execution_count": 44,
     "metadata": {},
     "output_type": "execute_result"
    }
   ],
   "source": [
    "from collections import Counter\n",
    "words = [token.lemma_ for token in doc if not token.is_stop and not token.is_punct] \n",
    "\n",
    "word_freq = Counter(words) \n",
    "word_freq.most_common(20)"
   ]
  },
  {
   "cell_type": "code",
   "execution_count": 46,
   "id": "5b7d8007-f52a-4892-84f5-432f11dfb2d0",
   "metadata": {
    "collapsed": true,
    "jupyter": {
     "outputs_hidden": true,
     "source_hidden": true
    },
    "tags": []
   },
   "outputs": [
    {
     "data": {
      "text/plain": [
       "Counter({'final phase': 1,\n",
       "         'new facility': 1,\n",
       "         'regulatory bodies': 1,\n",
       "         'uvic researcher': 1,\n",
       "         'longer term': 1,\n",
       "         'wide visioning': 1,\n",
       "         'long projects': 1})"
      ]
     },
     "execution_count": 46,
     "metadata": {},
     "output_type": "execute_result"
    }
   ],
   "source": [
    "from spacy.matcher import Matcher \n",
    "matcher = Matcher(nlp.vocab) \n",
    "pattern = [{'POS':'ADJ'}, {'POS':'NOUN'}] \n",
    "matcher.add('ADJ_PHRASE', [pattern]) \n",
    "matches = matcher(doc, as_spans=True) \n",
    "phrases = [] \n",
    "for span in matches:\n",
    "    phrases.append(span.text.lower())\n",
    "    phrase_freq = Counter(phrases)\n",
    "phrase_freq"
   ]
  },
  {
   "cell_type": "code",
   "execution_count": 47,
   "id": "33cd955b-2d51-41df-89f0-46cf22939ed2",
   "metadata": {
    "jupyter": {
     "source_hidden": true
    },
    "tags": []
   },
   "outputs": [],
   "source": [
    "# import necessary modules\n",
    "import spacy\n",
    "from spacy.matcher import PhraseMatcher #import PhraseMatcher class\n",
    "# Language class with the English model 'en_core_web_sm' is loaded\n",
    "nlp = spacy.load('en_core_web_sm')\n",
    "# create the PhraseMatcher object\n",
    "matcher = PhraseMatcher(nlp.vocab, attr='LOWER')\n",
    "# the list containing the pharses to be matched\n",
    "terminology_list = [\"project\", \"company\",                     \n",
    "                           \"assessment\"]\n",
    "# convert the phrases into document object using nlp.make_doc to #speed up.\n",
    "patterns = [nlp.make_doc(text) for text in terminology_list]\n",
    "# add the patterns to the matcher object without any callbacks\n",
    "matcher.add(\"Phrase Matching\", None, *patterns)\n"
   ]
  },
  {
   "cell_type": "code",
   "execution_count": 48,
   "id": "a41940fd-dc31-4169-a72c-b265b4709c0b",
   "metadata": {
    "collapsed": true,
    "jupyter": {
     "outputs_hidden": true,
     "source_hidden": true
    },
    "tags": []
   },
   "outputs": [
    {
     "name": "stdout",
     "output_type": "stream",
     "text": [
      "11356100181062323261 Phrase Matching 6 7 Project\n",
      "11356100181062323261 Phrase Matching 90 91 Assessment\n",
      "11356100181062323261 Phrase Matching 99 100 assessment\n",
      "11356100181062323261 Phrase Matching 117 118 project\n",
      "11356100181062323261 Phrase Matching 149 150 Project\n"
     ]
    }
   ],
   "source": [
    "#call the matcher object the document object and it will return #match_id, start and stop indexes of the matched words\n",
    "matches = matcher(doc)\n",
    "#print the matched results and extract out the results\n",
    "for match_id, start, end in matches:\n",
    "    # Get the string representation \n",
    "    string_id = nlp.vocab.strings[match_id]  \n",
    "    span = doc[start:end]  # The matched span\n",
    "    print(match_id, string_id, start, end, span.text)"
   ]
  },
  {
   "cell_type": "markdown",
   "id": "d3015c07-fa7a-4a89-9472-252e15d78f05",
   "metadata": {},
   "source": [
    "### Question 8: What common and/or recurring issues and challenges do you encounter while being part of a project? (list and briefly describe TOP three if you can)"
   ]
  },
  {
   "cell_type": "code",
   "execution_count": 95,
   "id": "f7e512fb-586d-4182-b8b9-cddb8d885cf7",
   "metadata": {},
   "outputs": [
    {
     "data": {
      "text/plain": [
       "array(['Maintaining Project on Track with respect to resources, timelines and Budget. Mitigating Risks. Adapting agile mindset in the team',\n",
       "       \"Reduced efficiency and timeline drag due from under-structured or unwritten input and approval processes. Chronic games of 'telephone' i.e. the same information being shared with different individuals over and over again with details being lost along the way.\\nProject Management availability/overload -I will wind up playing the central role in this project, but I am also expected to keep operations and all other smaller projects moving forward. \",\n",
       "       \"- taking the ideas and translating them into tangible actions/requests. \\n- Capacity issues (I'm the only full time staff, everyone else is volunteer / very limited hours contractor) \\n- reluctant partners (the City of Victoria) in collaborating on potential actions/requests/community vision \",\n",
       "       'Working with multiple stakeholders & communities ',\n",
       "       'Understanding communication styles.', 'Wrong comunication \\n'],\n",
       "      dtype=object)"
      ]
     },
     "execution_count": 95,
     "metadata": {},
     "output_type": "execute_result"
    }
   ],
   "source": [
    "pre_df.proj_challenges.unique()"
   ]
  },
  {
   "cell_type": "code",
   "execution_count": 96,
   "id": "07e9ba22-80a8-4b99-9731-0aaebaab49a5",
   "metadata": {},
   "outputs": [
    {
     "name": "stderr",
     "output_type": "stream",
     "text": [
      "/var/folders/lx/k5799j011wz6q8hpjbh635sc0000gn/T/ipykernel_40869/2217449670.py:3: SettingWithCopyWarning: \n",
      "A value is trying to be set on a copy of a slice from a DataFrame.\n",
      "Try using .loc[row_indexer,col_indexer] = value instead\n",
      "\n",
      "See the caveats in the documentation: https://pandas.pydata.org/pandas-docs/stable/user_guide/indexing.html#returning-a-view-versus-a-copy\n",
      "  q8_df[\"pp_text\"] = q8_df[\"proj_challenges\"].apply(preprocess)\n",
      "/var/folders/lx/k5799j011wz6q8hpjbh635sc0000gn/T/ipykernel_40869/2217449670.py:6: SettingWithCopyWarning: \n",
      "A value is trying to be set on a copy of a slice from a DataFrame.\n",
      "Try using .loc[row_indexer,col_indexer] = value instead\n",
      "\n",
      "See the caveats in the documentation: https://pandas.pydata.org/pandas-docs/stable/user_guide/indexing.html#returning-a-view-versus-a-copy\n",
      "  q8_df[\"pp_text\"] = [\n"
     ]
    }
   ],
   "source": [
    "q8_df = pd.DataFrame()\n",
    "q8_df = pre_df[[\"proj_challenges\"]]\n",
    "q8_df[\"pp_text\"] = q8_df[\"proj_challenges\"].apply(preprocess)\n",
    "q8_df.dropna()\n",
    "\n",
    "q8_df[\"pp_text\"] = [\n",
    "    preprocess_spacy(spacy_text) for spacy_text in nlp.pipe(q8_df[\"pp_text\"])\n",
    "]"
   ]
  },
  {
   "cell_type": "code",
   "execution_count": 97,
   "id": "8105a6ec-dc68-423b-9aa5-b37b8a0b90c2",
   "metadata": {},
   "outputs": [],
   "source": [
    "words = \" \".join(q8_df[\"pp_text\"].tolist())\n",
    "wordcloud = WordCloud(width=800, height=400, random_state=591)\n",
    "wc = wordcloud.generate(words).to_image()\n",
    "wc.save('../results/images/q8_wc.png')"
   ]
  },
  {
   "cell_type": "code",
   "execution_count": 98,
   "id": "ee034467-8e51-452c-8ef1-81f92a0c0641",
   "metadata": {},
   "outputs": [],
   "source": [
    "proj_challenges_text = q8_df.pp_text.str.cat(sep = ' ')\n",
    "\n",
    "doc = nlp(proj_challenges_text, disable = ['ner'])\n",
    "\n",
    "from collections import Counter\n",
    "words = [token.lemma_ for token in doc if not token.is_stop and not token.is_punct] \n",
    "\n",
    "word_freq = Counter(words) \n",
    "word_freq_3 = word_freq.most_common(20)"
   ]
  },
  {
   "cell_type": "code",
   "execution_count": 99,
   "id": "ec55c0bb-921b-4575-b43a-c996429b9542",
   "metadata": {},
   "outputs": [],
   "source": [
    "df_q8 = pd.DataFrame(word_freq_3, columns =['Term', 'Frequency'])\n",
    "df_q8.set_index('Term')\n",
    "df_q8.to_csv('../results/tables/pre_survey_q8.csv', index=False)"
   ]
  },
  {
   "cell_type": "markdown",
   "id": "61105774-f310-4805-bf3d-487199257e28",
   "metadata": {
    "jp-MarkdownHeadingCollapsed": true,
    "tags": []
   },
   "source": [
    "### LDA topic modelling "
   ]
  },
  {
   "cell_type": "code",
   "execution_count": null,
   "id": "903130b5-fefb-42ec-9d20-73e2f7222b8c",
   "metadata": {},
   "outputs": [],
   "source": [
    "import gensim\n",
    "import gensim.corpora as corpora\n",
    "from gensim.corpora import Dictionary\n",
    "from gensim.models import LdaModel"
   ]
  },
  {
   "cell_type": "code",
   "execution_count": null,
   "id": "405bb16e-8e92-40c5-a264-bff01a28e6ae",
   "metadata": {},
   "outputs": [],
   "source": [
    "# Create a vocabulary for the lda model and\n",
    "# convert our corpus into document-term matrix for Lda\n",
    "preprocessed_corpus = [doc.split() for doc in q8_df[\"pp_text\"].tolist()]\n",
    "dictionary = corpora.Dictionary(preprocessed_corpus)\n",
    "# Optional\n",
    "# dictionary.filter_extremes(no_below=3, no_above=0.3, keep_n=100000)\n",
    "len(dictionary)\n",
    "\n",
    "doc_term_matrix = [dictionary.doc2bow(doc) for doc in preprocessed_corpus]\n",
    "# print(doc_term_matrix[0])\n",
    "d = [(dictionary[idx], freq) for (idx, freq) in doc_term_matrix[0]]\n",
    "pd.DataFrame(d, columns=[\"word\", \"frequency\"])\n",
    "\n",
    "\n",
    "from gensim.models import CoherenceModel\n",
    "\n",
    "K = [3, 4, 5, 6, 7, 8]\n",
    "\n",
    "coherence_scores = []\n",
    "\n",
    "for num_topics in K:\n",
    "    lda = LdaModel(\n",
    "        corpus=doc_term_matrix,\n",
    "        id2word=dictionary,\n",
    "        num_topics=num_topics,\n",
    "        random_state=42,\n",
    "        passes=10,\n",
    "    )\n",
    "    coherence_model_lda = CoherenceModel(\n",
    "        model=lda, texts=preprocessed_corpus, dictionary=dictionary, coherence=\"c_v\"\n",
    "    )\n",
    "    coherence_scores.append(coherence_model_lda.get_coherence())\n",
    "    \n",
    "coherence_df = pd.DataFrame(coherence_scores, index=K, columns=[\"Coherence score\"])\n",
    "coherence_df\n",
    "\n",
    "lda4 = LdaModel(\n",
    "    corpus=doc_term_matrix,\n",
    "    id2word=dictionary,\n",
    "    num_topics=4,\n",
    "    random_state=42,\n",
    "    passes=10,\n",
    ")\n",
    "pd.DataFrame(lda4.print_topics(), columns=[\"Topic id\", \"Topic words\"])\n",
    "\n",
    "\n",
    "lda4.print_topics()"
   ]
  },
  {
   "cell_type": "code",
   "execution_count": null,
   "id": "765d7f3f-c89e-4c29-ba3f-c3bc2c3ae893",
   "metadata": {},
   "outputs": [],
   "source": [
    "doc_term_matrix = [dictionary.doc2bow(doc) for doc in preprocessed_corpus]\n",
    "# print(doc_term_matrix[0])\n",
    "d = [(dictionary[idx], freq) for (idx, freq) in doc_term_matrix[0]]\n",
    "pd.DataFrame(d, columns=[\"word\", \"frequency\"])"
   ]
  },
  {
   "cell_type": "code",
   "execution_count": null,
   "id": "8276a962-dd46-44e3-bbd2-5df10d6a7a78",
   "metadata": {},
   "outputs": [],
   "source": [
    "from gensim.models import CoherenceModel\n",
    "\n",
    "K = [3, 4, 5, 6, 7, 8]\n",
    "\n",
    "coherence_scores = []\n",
    "\n",
    "for num_topics in K:\n",
    "    lda = LdaModel(\n",
    "        corpus=doc_term_matrix,\n",
    "        id2word=dictionary,\n",
    "        num_topics=num_topics,\n",
    "        random_state=42,\n",
    "        passes=10,\n",
    "    )\n",
    "    coherence_model_lda = CoherenceModel(\n",
    "        model=lda, texts=preprocessed_corpus, dictionary=dictionary, coherence=\"c_v\"\n",
    "    )\n",
    "    coherence_scores.append(coherence_model_lda.get_coherence())"
   ]
  },
  {
   "cell_type": "code",
   "execution_count": null,
   "id": "172dc918-3525-4b1d-81c9-755b7ae82b98",
   "metadata": {},
   "outputs": [],
   "source": [
    "coherence_df = pd.DataFrame(coherence_scores, index=K, columns=[\"Coherence score\"])\n",
    "coherence_df"
   ]
  },
  {
   "cell_type": "code",
   "execution_count": null,
   "id": "a36d0160-e5e7-4432-9ed3-1da5fc202cb4",
   "metadata": {},
   "outputs": [],
   "source": [
    "lda4 = LdaModel(\n",
    "    corpus=doc_term_matrix,\n",
    "    id2word=dictionary,\n",
    "    num_topics=4,\n",
    "    random_state=42,\n",
    "    passes=10,\n",
    ")\n",
    "pd.DataFrame(lda4.print_topics(), columns=[\"Topic id\", \"Topic words\"])"
   ]
  },
  {
   "cell_type": "code",
   "execution_count": null,
   "id": "a65df04f-8533-4d74-b4ca-c695828db5f5",
   "metadata": {},
   "outputs": [],
   "source": [
    "lda4.print_topics()"
   ]
  },
  {
   "cell_type": "code",
   "execution_count": null,
   "id": "7dfa7559-5dba-4b64-a036-71e7e1f1b35c",
   "metadata": {},
   "outputs": [],
   "source": [
    "### creating bi-grams"
   ]
  },
  {
   "cell_type": "code",
   "execution_count": null,
   "id": "e41f8a77-9757-48ce-aa5c-0ed38f86e46a",
   "metadata": {},
   "outputs": [],
   "source": [
    "import nltk\n",
    "from nltk import bigrams\n",
    "import networkx as nx"
   ]
  },
  {
   "cell_type": "code",
   "execution_count": null,
   "id": "1cc347c9-0722-4d05-a8ab-0debc1bf945c",
   "metadata": {},
   "outputs": [],
   "source": [
    "# Create list of lists containing bigrams in tweets\n",
    "terms_bigram = [list(bigrams(text)) for text in nlp.pipe(q8_df['pp_text'])]\n",
    "\n",
    "# View bigrams for the first tweet\n",
    "terms_bigram[0]"
   ]
  },
  {
   "cell_type": "code",
   "execution_count": null,
   "id": "28b94b77-dea3-441f-ae67-0b30e818309d",
   "metadata": {},
   "outputs": [],
   "source": [
    "import itertools\n",
    "import collections\n",
    "# Flatten list of bigrams in clean tweets\n",
    "bigrams = list(itertools.chain(*terms_bigram))\n",
    "\n",
    "# Create counter of words in clean bigrams\n",
    "bigram_counts = collections.Counter(bigrams)\n",
    "\n",
    "bigram_counts.most_common(20)"
   ]
  },
  {
   "cell_type": "code",
   "execution_count": null,
   "id": "e64cb002-cfc7-4cce-9823-6f3a0ff36867",
   "metadata": {},
   "outputs": [],
   "source": [
    "bigram_df = pd.DataFrame(bigram_counts.most_common(20),\n",
    "                             columns=['bigram', 'count'])\n",
    "\n",
    "bigram_df"
   ]
  },
  {
   "cell_type": "code",
   "execution_count": null,
   "id": "dd42c5f4-b715-4d89-b7bc-b79add6eccae",
   "metadata": {},
   "outputs": [],
   "source": [
    "### visualize network \n",
    "# Create dictionary of bigrams and their counts\n",
    "d = bigram_df.set_index('bigram').T.to_dict('records')"
   ]
  },
  {
   "cell_type": "code",
   "execution_count": null,
   "id": "7965e305-644b-4813-9960-753894182200",
   "metadata": {},
   "outputs": [],
   "source": [
    "# Create network plot \n",
    "G = nx.Graph()\n",
    "\n",
    "# Create connections between nodes\n",
    "for k, v in d[0].items():\n",
    "    G.add_edge(k[0], k[1], weight=(v * 10))\n"
   ]
  },
  {
   "cell_type": "code",
   "execution_count": null,
   "id": "9c7172ba-5d90-49ae-828d-53077a88502a",
   "metadata": {},
   "outputs": [],
   "source": [
    "# import matplotlib.pyplot as plt\n",
    "# fig, ax = plt.subplots(figsize=(10, 8))\n",
    "\n",
    "# pos = nx.spring_layout(G, k=2)\n",
    "\n",
    "# # Plot networks\n",
    "# nx.draw_networkx(G, pos,\n",
    "#                  font_size=16,\n",
    "#                  width=3,\n",
    "#                  edge_color='grey',\n",
    "#                  node_color='purple',\n",
    "#                  with_labels = False,\n",
    "#                  ax=ax)\n",
    "\n",
    "# # Create offset labels\n",
    "# for key, value in pos.items():\n",
    "#     x, y = value[0]+.135, value[1]+.045\n",
    "#     ax.text(x, y,\n",
    "#             s=key,\n",
    "#             bbox=dict(facecolor='red', alpha=0.25),\n",
    "#             horizontalalignment='center', fontsize=13)\n",
    "# plt.show()"
   ]
  },
  {
   "cell_type": "code",
   "execution_count": null,
   "id": "528139d9-d4bf-47e8-b693-0b6535253ca7",
   "metadata": {},
   "outputs": [],
   "source": []
  }
 ],
 "metadata": {
  "kernelspec": {
   "display_name": "Python [conda env:531]",
   "language": "python",
   "name": "conda-env-531-py"
  },
  "language_info": {
   "codemirror_mode": {
    "name": "ipython",
    "version": 3
   },
   "file_extension": ".py",
   "mimetype": "text/x-python",
   "name": "python",
   "nbconvert_exporter": "python",
   "pygments_lexer": "ipython3",
   "version": "3.10.2"
  }
 },
 "nbformat": 4,
 "nbformat_minor": 5
}
